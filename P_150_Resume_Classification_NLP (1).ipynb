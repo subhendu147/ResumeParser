{
 "cells": [
  {
   "cell_type": "markdown",
   "id": "c4602f40",
   "metadata": {},
   "source": [
    "# PROJECT(P-150) RESUME CLASSIFICATION"
   ]
  },
  {
   "cell_type": "markdown",
   "id": "58fea4f0",
   "metadata": {},
   "source": [
    "### 1.BUISNESS OBJECTIVE:\n",
    "   >>* The document classification system should significantly reduce the manual human effort in the HRM. It should achive a higher level of accuracy and automation with minimal human intrevention.\n",
    "   "
   ]
  },
  {
   "cell_type": "markdown",
   "id": "fcf33392",
   "metadata": {},
   "source": [
    "### 2.DATASET DETAILS:\n",
    "   >>* We have dataset of resumes of people of different profile like Peoplesoft administration, SQL developer, React developer and workday developer."
   ]
  },
  {
   "cell_type": "markdown",
   "id": "e03abaa7",
   "metadata": {},
   "source": [
    "## 3.IMPORTING NECESSARY LIBRARIES"
   ]
  },
  {
   "cell_type": "code",
   "execution_count": 1,
   "id": "787df4e5",
   "metadata": {},
   "outputs": [
    {
     "name": "stdout",
     "output_type": "stream",
     "text": [
      "Requirement already satisfied: python-docx in c:\\users\\haari\\anaconda3\\lib\\site-packages (0.8.11)\n",
      "Requirement already satisfied: lxml>=2.3.2 in c:\\users\\haari\\anaconda3\\lib\\site-packages (from python-docx) (4.6.3)\n",
      "Requirement already satisfied: PyPDF2 in c:\\users\\haari\\anaconda3\\lib\\site-packages (2.10.4)\n",
      "Requirement already satisfied: typing-extensions>=3.10.0.0 in c:\\users\\haari\\anaconda3\\lib\\site-packages (from PyPDF2) (3.10.0.2)\n"
     ]
    }
   ],
   "source": [
    "!pip install python-docx\n",
    "!pip install PyPDF2"
   ]
  },
  {
   "cell_type": "code",
   "execution_count": 2,
   "id": "a01f8636",
   "metadata": {},
   "outputs": [
    {
     "name": "stderr",
     "output_type": "stream",
     "text": [
      "[nltk_data] Downloading package stopwords to\n",
      "[nltk_data]     C:\\Users\\haari\\AppData\\Roaming\\nltk_data...\n",
      "[nltk_data]   Package stopwords is already up-to-date!\n",
      "[nltk_data] Downloading package punkt to\n",
      "[nltk_data]     C:\\Users\\haari\\AppData\\Roaming\\nltk_data...\n",
      "[nltk_data]   Package punkt is already up-to-date!\n",
      "[nltk_data] Downloading package wordnet to\n",
      "[nltk_data]     C:\\Users\\haari\\AppData\\Roaming\\nltk_data...\n",
      "[nltk_data]   Package wordnet is already up-to-date!\n"
     ]
    },
    {
     "data": {
      "text/plain": [
       "True"
      ]
     },
     "execution_count": 2,
     "metadata": {},
     "output_type": "execute_result"
    }
   ],
   "source": [
    "import pandas as pd\n",
    "import numpy as np\n",
    "import os\n",
    "import docx\n",
    "import PyPDF2\n",
    "import io\n",
    "\n",
    "# MODELS\n",
    "\n",
    "from sklearn.linear_model import LogisticRegression\n",
    "from sklearn.tree import  DecisionTreeClassifier\n",
    "from sklearn.ensemble import RandomForestClassifier\n",
    "from sklearn.ensemble import AdaBoostClassifier\n",
    "from sklearn.ensemble import GradientBoostingClassifier\n",
    "from sklearn.multiclass import OneVsRestClassifier\n",
    "from xgboost import XGBClassifier\n",
    "from sklearn.svm import SVC\n",
    "from sklearn.neighbors import KNeighborsClassifier\n",
    "from sklearn.naive_bayes import MultinomialNB\n",
    "from sklearn.naive_bayes import GaussianNB \n",
    "\n",
    "from sklearn.preprocessing import LabelEncoder\n",
    "from sklearn.feature_extraction.text import CountVectorizer\n",
    "from sklearn.model_selection import train_test_split, KFold, GridSearchCV\n",
    "from sklearn.metrics import accuracy_score, confusion_matrix\n",
    "\n",
    "# NLP [PRE-PROCESSING]\n",
    "\n",
    "import nltk\n",
    "import re\n",
    "import string\n",
    "from nltk.stem import PorterStemmer, WordNetLemmatizer\n",
    "from nltk.corpus import stopwords\n",
    "from nltk.tokenize import word_tokenize\n",
    "nltk.download('stopwords')\n",
    "nltk.download('punkt')\n",
    "nltk.download('wordnet')"
   ]
  },
  {
   "cell_type": "markdown",
   "id": "44a4c6c2",
   "metadata": {},
   "source": [
    "## 4. PRE-PROCESSING"
   ]
  },
  {
   "cell_type": "code",
   "execution_count": 3,
   "id": "0b2160e7",
   "metadata": {},
   "outputs": [],
   "source": [
    "# THIS FUNCTION WILL EXTRACT TEXT FROM RESUME\n",
    "def getText(filename):\n",
    "      \n",
    "    fullText = ''\n",
    "    if filename.endswith('.docx'):\n",
    "        doc = docx.Document(filename)\n",
    "        \n",
    "        for para in doc.paragraphs:\n",
    "            fullText = fullText + para.text\n",
    "            \n",
    "           \n",
    "    elif filename.endswith('.pdf'):  \n",
    "        with open(filename, \"rb\") as pdf_file:\n",
    "            pdoc = PyPDF2.PdfFileReader(filename)\n",
    "            number_of_pages = pdoc.getNumPages()\n",
    "            page = pdoc.pages[0]\n",
    "            page_content = page.extractText()\n",
    "             \n",
    "        for paragraph in page_content:\n",
    "            fullText =  fullText + paragraph\n",
    "            \n",
    "    else:\n",
    "        try:\n",
    "            import aspose.words as aw\n",
    "            output = aw.Document()\n",
    "            output.remove_all_children()\n",
    "            input = aw.Document(filename)\n",
    "            output.append_document(input, aw.ImportFormatMode.KEEP_SOURCE_FORMATTING)\n",
    "            output.save(\"Output.docx\");\n",
    "            doc = docx.Document('Output.docx')\n",
    "        \n",
    "            for para in doc.paragraphs:\n",
    "                fullText = fullText + para.text\n",
    "            fullText = fullText[79:]\n",
    "        except:\n",
    "            filename.endswith(\".zip\")\n",
    "         \n",
    "    return (fullText)"
   ]
  },
  {
   "cell_type": "code",
   "execution_count": 4,
   "id": "963aba78",
   "metadata": {},
   "outputs": [],
   "source": [
    "# THIS FUNCTION WILL TOKENIZE AND REMOVE PUNCTUATION.\n",
    "def tokenText(extText):\n",
    "   \n",
    "    # Remove punctuation marks\n",
    "    punc = '''!()-[]{};:'\"\\,.<>/?@#$%^&*_~'''\n",
    "    puncText=\" \"\n",
    "    for ele in extText:\n",
    "        if ele in punc:\n",
    "            puncText= extText.replace(ele, \"\")\n",
    "    stop_words = set(stopwords.words('english'))\n",
    "    puncText.split()\n",
    "    word_tokens = word_tokenize(puncText)\n",
    "    TokenizedText = [w for w in word_tokens if not w.lower() in stop_words]\n",
    "    TokenizedText = []\n",
    "  \n",
    "    for w in word_tokens:\n",
    "        if w not in stop_words:\n",
    "            TokenizedText.append(w)\n",
    "    return(TokenizedText)"
   ]
  },
  {
   "cell_type": "code",
   "execution_count": 5,
   "id": "80d35836",
   "metadata": {},
   "outputs": [],
   "source": [
    "# DEFINING KEY TERMS FOR ROLES APPLIED \n",
    "terms = {'WorkDay ERP':['workday', 'workday consultant', 'workday hcm', 'eib', 'picof', \n",
    "                        'workday studio','nnbound/outbound integrations'],\n",
    "         'Peoplesoft':['peoplesoft', 'pia','ccb','birt','peci','ccw','pum','people tools',\n",
    "                        'peoplesoft implementation','peoplesoft components',\n",
    "                        'peoplesoft dba','peoplesoft admin','peoplesoft admin/dba','peopleSoft fscm', \n",
    "                        'peopletoolsupgrade','peopletools upgrade','process scheduler servers',\n",
    "                        'peoplesoft hrms','peopleSoft consultant','peoplesoft cloud',\n",
    "                        'PeopleSoft migrations','eoplesoft Testing Framework','pure internet architecture'],             \n",
    "         'Database Developer':['sql','sql server', 'ms sql server','msbi', 'sql developer', 'ssis','ssrs',\n",
    "                        'ssms','t-sql','tsql','Razorsql', 'razor sql','triggers','powerbi','power bi',\n",
    "                        'oracle sql', 'pl/sql', 'pl\\sql','oracle', 'oracle 11g','oledb','cte','ddl',\n",
    "                        'dml','etl','mariadb','maria db'],\n",
    "         'Java Developer':['reactjs', 'react js', 'react js developer', 'html', 'React JS'\n",
    "                        'css3','xml','javascript','html5','boostrap','jquery', 'redux','php', 'node js',\n",
    "                        'nodejs','apache','netbeans','nestjs','nest js','react developer','react hooks',\n",
    "                        'jenkins']}"
   ]
  },
  {
   "cell_type": "code",
   "execution_count": 6,
   "id": "57af50f7",
   "metadata": {},
   "outputs": [],
   "source": [
    "# LIST OF ALL KEY TERMS TO INDICATE SKILLSET\n",
    "allTerms = ['workday', 'hcm', 'eib', 'picof','workday hcm',\n",
    "                        'workday studio','nnbound/outbound integrations',\n",
    "                        'peoplesoft', 'pia','ccb','birt','peci','ccw','pum','people tools',\n",
    "                        'peoplesoft implementation','peoplesoft components',\n",
    "                        'peoplesoft dba','peoplesoft admin','peoplesoft admin/dba','peopleSoft fscm', \n",
    "                        'peopletoolsupgrade','peopletools upgrade','process scheduler servers',\n",
    "                        'peoplesoft hrms','peopleSoft consultant','peopledoft cloud',\n",
    "                        'PeopleSoft migrations','eoplesoft Testing Framework','pure internet architecture',\n",
    "                        'sql','sql server', 'ms sql server','msbi', 'sql developer', 'ssis','ssrs',\n",
    "                        'ssms','t-sql','tsql','Razorsql', 'razor sql','triggers','powerbi','power bi',\n",
    "                        'oracle sql', 'pl/sql', 'pl\\sql','oracle', 'oracle 11g','oledb','cte','ddl',\n",
    "                        'dml','etl','mariadb','maria db','reactjs', 'react js', 'react js developer', 'html', \n",
    "                        'css3','xml','javascript','html5','boostrap','jquery', 'redux','php', 'node js',\n",
    "                        'nodejs','apache','netbeans','nestjs','nest js','react developer','react hooks',\n",
    "                        'jenkins']"
   ]
  },
  {
   "cell_type": "code",
   "execution_count": 7,
   "id": "8303e6ff",
   "metadata": {},
   "outputs": [],
   "source": [
    "# THIS FUNCTION WILL READ TOKENIZD TEXT AND READ KEYWORDS FOR ROLE APPLIED\n",
    "def roleApplied (Text):\n",
    "    \n",
    "    # CONVERT TEXT INTO LOWER CASE\n",
    "    for i in range(len(Text)):\n",
    "        Text[i] = Text[i].lower()\n",
    "    \n",
    "    for area in terms.keys():\n",
    "        if area == 'WorkDay ERP':\n",
    "            for word in terms[area]:\n",
    "                if word in Text:\n",
    "                    role = area\n",
    "                    return (role)\n",
    "                \n",
    "        elif area == 'Peoplesoft':\n",
    "            for word in terms[area]:\n",
    "                if word in Text:\n",
    "                    role = area\n",
    "                    return(role)   \n",
    "                \n",
    "        elif area == 'Database Developer':\n",
    "            for word in terms[area]:\n",
    "                if word in Text:\n",
    "                    role =  area\n",
    "                    return(role)\n",
    "            \n",
    "        elif area == 'Java Developer':\n",
    "             for word in terms[area]:\n",
    "                if word in Text:\n",
    "                    role = area\n",
    "                    return(role)\n",
    "        else:\n",
    "            role = \"Fresher\"\n",
    "            return(role)"
   ]
  },
  {
   "cell_type": "code",
   "execution_count": 8,
   "id": "3b39fc52",
   "metadata": {},
   "outputs": [],
   "source": [
    "# Function to extract Name and contact details\n",
    "def contactDetails(Text):\n",
    "    name = ''  \n",
    "    for i in range(0,3):\n",
    "        name = \" \".join([name,Text[i]])\n",
    "    return(name)"
   ]
  },
  {
   "cell_type": "code",
   "execution_count": 9,
   "id": "469b261c",
   "metadata": {},
   "outputs": [],
   "source": [
    "# EXPERIENCE DETAILS\n",
    "def expDetails(Text):\n",
    "    global sent\n",
    "   \n",
    "    Text = Text.split()\n",
    "   \n",
    "    for i in range(len(Text)-2):\n",
    "        Text[i].lower()\n",
    "        \n",
    "        if Text[i] ==  'years':\n",
    "            sent =  Text[i-2] + ' ' + Text[i-1] +' ' + Text[i] +' '+ Text[i+1] +' ' + Text[i+2]\n",
    "            return (sent)"
   ]
  },
  {
   "cell_type": "code",
   "execution_count": 10,
   "id": "9214de75",
   "metadata": {},
   "outputs": [],
   "source": [
    "# SKILL SET\n",
    "def skillSet(Text):\n",
    "    t = []\n",
    "    for i in range(len(Text)):\n",
    "        if Text[i] in allTerms:\n",
    "            if Text[i] in t:\n",
    "                continue\n",
    "            t.append(Text[i]) \n",
    "    return(t)"
   ]
  },
  {
   "cell_type": "code",
   "execution_count": 11,
   "id": "243227d0",
   "metadata": {},
   "outputs": [],
   "source": [
    "ResumeText = pd.DataFrame([], columns=['Name','RoleApplied', 'Experience', 'SkillSet','TextInfo'])\n",
    "\n",
    "# PATH OF FOLDER WHERE RESUME ARE STORED\n",
    "path = r\"C:/Users/haari/OneDrive/Desktop/P150_Resume_Classification/Resumes\"\n",
    "text =[]\n",
    "\n",
    "# Search the directory path and loop through the resume documents and callthe function getText\n",
    "for filename in os.listdir(path):\n",
    "    filename = os.path.join(path, filename)\n",
    "    extText = getText(filename)\n",
    "    #print(type(extText))\n",
    "    tokText = tokenText(extText)\n",
    "    #print(extText)\n",
    "    role = roleApplied(tokText)\n",
    "    Name = contactDetails(tokText)\n",
    "    experience = expDetails(extText)\n",
    "    skills = skillSet(tokText)\n",
    "    NewRow = [Name,role,experience, skills,tokText]  \n",
    "    ResumeText.loc[len(ResumeText)] = NewRow"
   ]
  },
  {
   "cell_type": "code",
   "execution_count": 12,
   "id": "d3282463",
   "metadata": {},
   "outputs": [
    {
     "data": {
      "text/html": [
       "<div>\n",
       "<style scoped>\n",
       "    .dataframe tbody tr th:only-of-type {\n",
       "        vertical-align: middle;\n",
       "    }\n",
       "\n",
       "    .dataframe tbody tr th {\n",
       "        vertical-align: top;\n",
       "    }\n",
       "\n",
       "    .dataframe thead th {\n",
       "        text-align: right;\n",
       "    }\n",
       "</style>\n",
       "<table border=\"1\" class=\"dataframe\">\n",
       "  <thead>\n",
       "    <tr style=\"text-align: right;\">\n",
       "      <th></th>\n",
       "      <th>Name</th>\n",
       "      <th>RoleApplied</th>\n",
       "      <th>Experience</th>\n",
       "      <th>SkillSet</th>\n",
       "      <th>TextInfo</th>\n",
       "    </tr>\n",
       "  </thead>\n",
       "  <tbody>\n",
       "    <tr>\n",
       "      <th>0</th>\n",
       "      <td>anil kumar maddukuri</td>\n",
       "      <td>Database Developer</td>\n",
       "      <td>Developer Summary2.4 years of experience</td>\n",
       "      <td>[sql, msbi, ssms, ssis, ssrs, triggers, cte, etl]</td>\n",
       "      <td>[anil, kumar, maddukuri, sql, &amp;, msbi, develop...</td>\n",
       "    </tr>\n",
       "    <tr>\n",
       "      <th>1</th>\n",
       "      <td>aradhana tripathicurrent location</td>\n",
       "      <td>Database Developer</td>\n",
       "      <td>than 4 years of working</td>\n",
       "      <td>[sql, mariadb, triggers, ddl, dml, t-sql, ssms]</td>\n",
       "      <td>[aradhana, tripathicurrent, location, :, gachi...</td>\n",
       "    </tr>\n",
       "    <tr>\n",
       "      <th>2</th>\n",
       "      <td>buddha vamsi career</td>\n",
       "      <td>Database Developer</td>\n",
       "      <td>OBJECTIVE:Have 2.11 years of IT</td>\n",
       "      <td>[sql, oracle, triggers, cte, etl]</td>\n",
       "      <td>[buddha, vamsi, career, objective, :, have, 21...</td>\n",
       "    </tr>\n",
       "    <tr>\n",
       "      <th>3</th>\n",
       "      <td>chinna subbarayudu mdob</td>\n",
       "      <td>WorkDay ERP</td>\n",
       "      <td>around 5.1 years of IT</td>\n",
       "      <td>[workday, hcm, etl, eib, xml, ccw, picof, peci...</td>\n",
       "      <td>[chinna, subbarayudu, mdob, 06th, march, 1994n...</td>\n",
       "    </tr>\n",
       "    <tr>\n",
       "      <th>4</th>\n",
       "      <td>name : gopi</td>\n",
       "      <td>WorkDay ERP</td>\n",
       "      <td>with 3+ years as Workday</td>\n",
       "      <td>[workday, hcm, eib, picof, xml, birt]</td>\n",
       "      <td>[name, :, gopi, krishna, reddy, professional, ...</td>\n",
       "    </tr>\n",
       "    <tr>\n",
       "      <th>...</th>\n",
       "      <td>...</td>\n",
       "      <td>...</td>\n",
       "      <td>...</td>\n",
       "      <td>...</td>\n",
       "      <td>...</td>\n",
       "    </tr>\n",
       "    <tr>\n",
       "      <th>74</th>\n",
       "      <td>workday | hcm</td>\n",
       "      <td>WorkDay ERP</td>\n",
       "      <td>Summary:Having 6+ years of experience</td>\n",
       "      <td>[workday, hcm, eib, xml, peci, peoplesoft]</td>\n",
       "      <td>[workday, |, hcm, |, fcmname, :, kumar, ssrole...</td>\n",
       "    </tr>\n",
       "    <tr>\n",
       "      <th>75</th>\n",
       "      <td>career objective a</td>\n",
       "      <td>Database Developer</td>\n",
       "      <td>with 3.2 years of total</td>\n",
       "      <td>[sql, cte, t-sql, triggers]</td>\n",
       "      <td>[career, objective, a, rewarding, opportunity,...</td>\n",
       "    </tr>\n",
       "    <tr>\n",
       "      <th>76</th>\n",
       "      <td>venkateswarlu.b workday consultant</td>\n",
       "      <td>WorkDay ERP</td>\n",
       "      <td>Having 5.3 years of experience</td>\n",
       "      <td>[workday, hcm, birt, eib, xml]</td>\n",
       "      <td>[venkateswarlu.b, workday, consultant, having,...</td>\n",
       "    </tr>\n",
       "    <tr>\n",
       "      <th>77</th>\n",
       "      <td>vinay kumar v</td>\n",
       "      <td>WorkDay ERP</td>\n",
       "      <td>Having 4.2 years of Total</td>\n",
       "      <td>[workday, hcm, eib, xml, peoplesoft]</td>\n",
       "      <td>[vinay, kumar, v, workday, functional, consult...</td>\n",
       "    </tr>\n",
       "    <tr>\n",
       "      <th>78</th>\n",
       "      <td>b vinod kumarobjective</td>\n",
       "      <td>Database Developer</td>\n",
       "      <td>None</td>\n",
       "      <td>[sql, msbi, cte, triggers, ssrs, ssis, etl, t-...</td>\n",
       "      <td>[b, vinod, kumarobjective, :, willing, work, c...</td>\n",
       "    </tr>\n",
       "  </tbody>\n",
       "</table>\n",
       "<p>79 rows × 5 columns</p>\n",
       "</div>"
      ],
      "text/plain": [
       "                                   Name         RoleApplied  \\\n",
       "0                  anil kumar maddukuri  Database Developer   \n",
       "1     aradhana tripathicurrent location  Database Developer   \n",
       "2                   buddha vamsi career  Database Developer   \n",
       "3               chinna subbarayudu mdob         WorkDay ERP   \n",
       "4                           name : gopi         WorkDay ERP   \n",
       "..                                  ...                 ...   \n",
       "74                        workday | hcm         WorkDay ERP   \n",
       "75                   career objective a  Database Developer   \n",
       "76   venkateswarlu.b workday consultant         WorkDay ERP   \n",
       "77                        vinay kumar v         WorkDay ERP   \n",
       "78               b vinod kumarobjective  Database Developer   \n",
       "\n",
       "                                  Experience  \\\n",
       "0   Developer Summary2.4 years of experience   \n",
       "1                    than 4 years of working   \n",
       "2            OBJECTIVE:Have 2.11 years of IT   \n",
       "3                     around 5.1 years of IT   \n",
       "4                   with 3+ years as Workday   \n",
       "..                                       ...   \n",
       "74     Summary:Having 6+ years of experience   \n",
       "75                   with 3.2 years of total   \n",
       "76            Having 5.3 years of experience   \n",
       "77                 Having 4.2 years of Total   \n",
       "78                                      None   \n",
       "\n",
       "                                             SkillSet  \\\n",
       "0   [sql, msbi, ssms, ssis, ssrs, triggers, cte, etl]   \n",
       "1     [sql, mariadb, triggers, ddl, dml, t-sql, ssms]   \n",
       "2                   [sql, oracle, triggers, cte, etl]   \n",
       "3   [workday, hcm, etl, eib, xml, ccw, picof, peci...   \n",
       "4               [workday, hcm, eib, picof, xml, birt]   \n",
       "..                                                ...   \n",
       "74         [workday, hcm, eib, xml, peci, peoplesoft]   \n",
       "75                        [sql, cte, t-sql, triggers]   \n",
       "76                     [workday, hcm, birt, eib, xml]   \n",
       "77               [workday, hcm, eib, xml, peoplesoft]   \n",
       "78  [sql, msbi, cte, triggers, ssrs, ssis, etl, t-...   \n",
       "\n",
       "                                             TextInfo  \n",
       "0   [anil, kumar, maddukuri, sql, &, msbi, develop...  \n",
       "1   [aradhana, tripathicurrent, location, :, gachi...  \n",
       "2   [buddha, vamsi, career, objective, :, have, 21...  \n",
       "3   [chinna, subbarayudu, mdob, 06th, march, 1994n...  \n",
       "4   [name, :, gopi, krishna, reddy, professional, ...  \n",
       "..                                                ...  \n",
       "74  [workday, |, hcm, |, fcmname, :, kumar, ssrole...  \n",
       "75  [career, objective, a, rewarding, opportunity,...  \n",
       "76  [venkateswarlu.b, workday, consultant, having,...  \n",
       "77  [vinay, kumar, v, workday, functional, consult...  \n",
       "78  [b, vinod, kumarobjective, :, willing, work, c...  \n",
       "\n",
       "[79 rows x 5 columns]"
      ]
     },
     "execution_count": 12,
     "metadata": {},
     "output_type": "execute_result"
    }
   ],
   "source": [
    "ResumeText"
   ]
  },
  {
   "cell_type": "code",
   "execution_count": 13,
   "id": "d0d678a8",
   "metadata": {},
   "outputs": [],
   "source": [
    "df=ResumeText"
   ]
  },
  {
   "cell_type": "markdown",
   "id": "4aa03c03",
   "metadata": {},
   "source": [
    "## 5. EXPLORATORY DATA ANALYSIS [ EDA ]"
   ]
  },
  {
   "cell_type": "code",
   "execution_count": 14,
   "id": "38f01e13",
   "metadata": {},
   "outputs": [
    {
     "data": {
      "text/plain": [
       "(79, 5)"
      ]
     },
     "execution_count": 14,
     "metadata": {},
     "output_type": "execute_result"
    }
   ],
   "source": [
    "# TELLS NUMBER OF ROWS AND COLUMN\n",
    "df.shape"
   ]
  },
  {
   "cell_type": "code",
   "execution_count": 15,
   "id": "103384a6",
   "metadata": {},
   "outputs": [
    {
     "data": {
      "text/html": [
       "<div>\n",
       "<style scoped>\n",
       "    .dataframe tbody tr th:only-of-type {\n",
       "        vertical-align: middle;\n",
       "    }\n",
       "\n",
       "    .dataframe tbody tr th {\n",
       "        vertical-align: top;\n",
       "    }\n",
       "\n",
       "    .dataframe thead th {\n",
       "        text-align: right;\n",
       "    }\n",
       "</style>\n",
       "<table border=\"1\" class=\"dataframe\">\n",
       "  <thead>\n",
       "    <tr style=\"text-align: right;\">\n",
       "      <th></th>\n",
       "      <th>Name</th>\n",
       "      <th>RoleApplied</th>\n",
       "      <th>Experience</th>\n",
       "      <th>SkillSet</th>\n",
       "      <th>TextInfo</th>\n",
       "    </tr>\n",
       "  </thead>\n",
       "  <tbody>\n",
       "    <tr>\n",
       "      <th>9</th>\n",
       "      <td>name ravali p</td>\n",
       "      <td>None</td>\n",
       "      <td>None</td>\n",
       "      <td>[]</td>\n",
       "      <td>[name, ravali, p, curriculum, vitae, specializ...</td>\n",
       "    </tr>\n",
       "    <tr>\n",
       "      <th>59</th>\n",
       "      <td>curriculum vitaethis document</td>\n",
       "      <td>None</td>\n",
       "      <td>None</td>\n",
       "      <td>[]</td>\n",
       "      <td>[curriculum, vitaethis, document, truncated, c...</td>\n",
       "    </tr>\n",
       "    <tr>\n",
       "      <th>61</th>\n",
       "      <td>venkatalakshmi pedireddysoftware developerexp...</td>\n",
       "      <td>None</td>\n",
       "      <td>None</td>\n",
       "      <td>[]</td>\n",
       "      <td>[venkatalakshmi, pedireddysoftware, developere...</td>\n",
       "    </tr>\n",
       "  </tbody>\n",
       "</table>\n",
       "</div>"
      ],
      "text/plain": [
       "                                                 Name RoleApplied Experience  \\\n",
       "9                                       name ravali p        None       None   \n",
       "59                      curriculum vitaethis document        None       None   \n",
       "61   venkatalakshmi pedireddysoftware developerexp...        None       None   \n",
       "\n",
       "   SkillSet                                           TextInfo  \n",
       "9        []  [name, ravali, p, curriculum, vitae, specializ...  \n",
       "59       []  [curriculum, vitaethis, document, truncated, c...  \n",
       "61       []  [venkatalakshmi, pedireddysoftware, developere...  "
      ]
     },
     "execution_count": 15,
     "metadata": {},
     "output_type": "execute_result"
    }
   ],
   "source": [
    "ResumeText[ResumeText['RoleApplied'].isna()] #SHOWS NULL VALUE"
   ]
  },
  {
   "cell_type": "code",
   "execution_count": 16,
   "id": "81660bdc",
   "metadata": {},
   "outputs": [
    {
     "data": {
      "text/html": [
       "<div>\n",
       "<style scoped>\n",
       "    .dataframe tbody tr th:only-of-type {\n",
       "        vertical-align: middle;\n",
       "    }\n",
       "\n",
       "    .dataframe tbody tr th {\n",
       "        vertical-align: top;\n",
       "    }\n",
       "\n",
       "    .dataframe thead th {\n",
       "        text-align: right;\n",
       "    }\n",
       "</style>\n",
       "<table border=\"1\" class=\"dataframe\">\n",
       "  <thead>\n",
       "    <tr style=\"text-align: right;\">\n",
       "      <th></th>\n",
       "      <th>Name</th>\n",
       "      <th>RoleApplied</th>\n",
       "      <th>Experience</th>\n",
       "      <th>SkillSet</th>\n",
       "      <th>TextInfo</th>\n",
       "    </tr>\n",
       "  </thead>\n",
       "  <tbody>\n",
       "  </tbody>\n",
       "</table>\n",
       "</div>"
      ],
      "text/plain": [
       "Empty DataFrame\n",
       "Columns: [Name, RoleApplied, Experience, SkillSet, TextInfo]\n",
       "Index: []"
      ]
     },
     "execution_count": 16,
     "metadata": {},
     "output_type": "execute_result"
    }
   ],
   "source": [
    "ResumeText[ResumeText['Name'].isna()]"
   ]
  },
  {
   "cell_type": "code",
   "execution_count": 17,
   "id": "58d6f63d",
   "metadata": {},
   "outputs": [
    {
     "data": {
      "text/html": [
       "<div>\n",
       "<style scoped>\n",
       "    .dataframe tbody tr th:only-of-type {\n",
       "        vertical-align: middle;\n",
       "    }\n",
       "\n",
       "    .dataframe tbody tr th {\n",
       "        vertical-align: top;\n",
       "    }\n",
       "\n",
       "    .dataframe thead th {\n",
       "        text-align: right;\n",
       "    }\n",
       "</style>\n",
       "<table border=\"1\" class=\"dataframe\">\n",
       "  <thead>\n",
       "    <tr style=\"text-align: right;\">\n",
       "      <th></th>\n",
       "      <th>Name</th>\n",
       "      <th>RoleApplied</th>\n",
       "      <th>Experience</th>\n",
       "      <th>SkillSet</th>\n",
       "      <th>TextInfo</th>\n",
       "    </tr>\n",
       "  </thead>\n",
       "  <tbody>\n",
       "  </tbody>\n",
       "</table>\n",
       "</div>"
      ],
      "text/plain": [
       "Empty DataFrame\n",
       "Columns: [Name, RoleApplied, Experience, SkillSet, TextInfo]\n",
       "Index: []"
      ]
     },
     "execution_count": 17,
     "metadata": {},
     "output_type": "execute_result"
    }
   ],
   "source": [
    "ResumeText[ResumeText['SkillSet'].isna()]"
   ]
  },
  {
   "cell_type": "code",
   "execution_count": 18,
   "id": "195497b9",
   "metadata": {},
   "outputs": [
    {
     "data": {
      "text/html": [
       "<div>\n",
       "<style scoped>\n",
       "    .dataframe tbody tr th:only-of-type {\n",
       "        vertical-align: middle;\n",
       "    }\n",
       "\n",
       "    .dataframe tbody tr th {\n",
       "        vertical-align: top;\n",
       "    }\n",
       "\n",
       "    .dataframe thead th {\n",
       "        text-align: right;\n",
       "    }\n",
       "</style>\n",
       "<table border=\"1\" class=\"dataframe\">\n",
       "  <thead>\n",
       "    <tr style=\"text-align: right;\">\n",
       "      <th></th>\n",
       "      <th>Name</th>\n",
       "      <th>RoleApplied</th>\n",
       "      <th>Experience</th>\n",
       "      <th>SkillSet</th>\n",
       "      <th>TextInfo</th>\n",
       "    </tr>\n",
       "  </thead>\n",
       "  <tbody>\n",
       "  </tbody>\n",
       "</table>\n",
       "</div>"
      ],
      "text/plain": [
       "Empty DataFrame\n",
       "Columns: [Name, RoleApplied, Experience, SkillSet, TextInfo]\n",
       "Index: []"
      ]
     },
     "execution_count": 18,
     "metadata": {},
     "output_type": "execute_result"
    }
   ],
   "source": [
    "ResumeText[ResumeText['TextInfo'].isna()]"
   ]
  },
  {
   "cell_type": "code",
   "execution_count": 19,
   "id": "da1732cf",
   "metadata": {},
   "outputs": [
    {
     "data": {
      "text/plain": [
       "WorkDay ERP           21\n",
       "Peoplesoft            20\n",
       "Database Developer    18\n",
       "Java Developer        17\n",
       "Name: RoleApplied, dtype: int64"
      ]
     },
     "execution_count": 19,
     "metadata": {},
     "output_type": "execute_result"
    }
   ],
   "source": [
    "ResumeText['RoleApplied'].value_counts()"
   ]
  },
  {
   "cell_type": "code",
   "execution_count": 20,
   "id": "81c5985e",
   "metadata": {},
   "outputs": [
    {
     "data": {
      "text/plain": [
       "(array([1., 0., 1., 0., 0., 0., 0., 1., 0., 1.]),\n",
       " array([17. , 17.4, 17.8, 18.2, 18.6, 19. , 19.4, 19.8, 20.2, 20.6, 21. ]),\n",
       " <BarContainer object of 10 artists>)"
      ]
     },
     "execution_count": 20,
     "metadata": {},
     "output_type": "execute_result"
    },
    {
     "data": {
      "image/png": "[encoded data removed]",
      "text/plain": [
       "<Figure size 432x288 with 1 Axes>"
      ]
     },
     "metadata": {
      "needs_background": "light"
     },
     "output_type": "display_data"
    }
   ],
   "source": [
    "import matplotlib.pyplot as plt\n",
    "plt.hist(ResumeText['RoleApplied'].value_counts())"
   ]
  },
  {
   "cell_type": "code",
   "execution_count": 21,
   "id": "e8c48302",
   "metadata": {},
   "outputs": [
    {
     "data": {
      "image/png": "[encoded data removed]",
      "text/plain": [
       "<Figure size 720x576 with 1 Axes>"
      ]
     },
     "metadata": {},
     "output_type": "display_data"
    }
   ],
   "source": [
    "import matplotlib.pyplot as plt\n",
    "plt.figure(figsize=(10,8))\n",
    "ResumeText['RoleApplied'].value_counts(sort=False).plot.pie(autopct='%1.1f%%')\n",
    "plt.show()"
   ]
  },
  {
   "cell_type": "code",
   "execution_count": 22,
   "id": "2bea1de7",
   "metadata": {},
   "outputs": [],
   "source": [
    "stopwords=stopwords.words(\"english\")"
   ]
  },
  {
   "cell_type": "code",
   "execution_count": 23,
   "id": "fe3757b2",
   "metadata": {},
   "outputs": [],
   "source": [
    "from nltk.stem.porter import PorterStemmer \n",
    "import re\n",
    "ps=PorterStemmer()"
   ]
  },
  {
   "cell_type": "code",
   "execution_count": 24,
   "id": "41444999",
   "metadata": {},
   "outputs": [],
   "source": [
    "def preprocess(x):\n",
    "         x=re.sub('[^a-zA-Z ]', ' ', x)\n",
    "         x=x.lower()\n",
    "         x=x.split()  \n",
    "         x=[word  for word in x if word not in set(stopwords.words('english'))]  \n",
    "         x=[ps.stem(word) for word in x] \n",
    "         x=\" \".join(x)\n",
    "         return x"
   ]
  },
  {
   "cell_type": "code",
   "execution_count": 25,
   "id": "74afaffe",
   "metadata": {},
   "outputs": [],
   "source": [
    "#tem.review=tem.review.apply(lambda x: [ps.stem(word) for word in x])\n",
    "ResumeText.TextInfo=ResumeText.TextInfo.apply(lambda x: [ps.stem(word) for word in x])"
   ]
  },
  {
   "cell_type": "code",
   "execution_count": 26,
   "id": "c98c30a8",
   "metadata": {},
   "outputs": [
    {
     "data": {
      "text/html": [
       "<div>\n",
       "<style scoped>\n",
       "    .dataframe tbody tr th:only-of-type {\n",
       "        vertical-align: middle;\n",
       "    }\n",
       "\n",
       "    .dataframe tbody tr th {\n",
       "        vertical-align: top;\n",
       "    }\n",
       "\n",
       "    .dataframe thead th {\n",
       "        text-align: right;\n",
       "    }\n",
       "</style>\n",
       "<table border=\"1\" class=\"dataframe\">\n",
       "  <thead>\n",
       "    <tr style=\"text-align: right;\">\n",
       "      <th></th>\n",
       "      <th>Name</th>\n",
       "      <th>RoleApplied</th>\n",
       "      <th>Experience</th>\n",
       "      <th>SkillSet</th>\n",
       "      <th>TextInfo</th>\n",
       "    </tr>\n",
       "  </thead>\n",
       "  <tbody>\n",
       "    <tr>\n",
       "      <th>0</th>\n",
       "      <td>anil kumar maddukuri</td>\n",
       "      <td>Database Developer</td>\n",
       "      <td>Developer Summary2.4 years of experience</td>\n",
       "      <td>[sql, msbi, ssms, ssis, ssrs, triggers, cte, etl]</td>\n",
       "      <td>[anil, kumar, maddukuri, sql, &amp;, msbi, develop...</td>\n",
       "    </tr>\n",
       "    <tr>\n",
       "      <th>1</th>\n",
       "      <td>aradhana tripathicurrent location</td>\n",
       "      <td>Database Developer</td>\n",
       "      <td>than 4 years of working</td>\n",
       "      <td>[sql, mariadb, triggers, ddl, dml, t-sql, ssms]</td>\n",
       "      <td>[aradhana, tripathicurr, locat, :, gachibowli,...</td>\n",
       "    </tr>\n",
       "    <tr>\n",
       "      <th>2</th>\n",
       "      <td>buddha vamsi career</td>\n",
       "      <td>Database Developer</td>\n",
       "      <td>OBJECTIVE:Have 2.11 years of IT</td>\n",
       "      <td>[sql, oracle, triggers, cte, etl]</td>\n",
       "      <td>[buddha, vamsi, career, object, :, have, 211, ...</td>\n",
       "    </tr>\n",
       "    <tr>\n",
       "      <th>3</th>\n",
       "      <td>chinna subbarayudu mdob</td>\n",
       "      <td>WorkDay ERP</td>\n",
       "      <td>around 5.1 years of IT</td>\n",
       "      <td>[workday, hcm, etl, eib, xml, ccw, picof, peci...</td>\n",
       "      <td>[chinna, subbarayudu, mdob, 06th, march, 1994n...</td>\n",
       "    </tr>\n",
       "    <tr>\n",
       "      <th>4</th>\n",
       "      <td>name : gopi</td>\n",
       "      <td>WorkDay ERP</td>\n",
       "      <td>with 3+ years as Workday</td>\n",
       "      <td>[workday, hcm, eib, picof, xml, birt]</td>\n",
       "      <td>[name, :, gopi, krishna, reddi, profession, su...</td>\n",
       "    </tr>\n",
       "  </tbody>\n",
       "</table>\n",
       "</div>"
      ],
      "text/plain": [
       "                                 Name         RoleApplied  \\\n",
       "0                anil kumar maddukuri  Database Developer   \n",
       "1   aradhana tripathicurrent location  Database Developer   \n",
       "2                 buddha vamsi career  Database Developer   \n",
       "3             chinna subbarayudu mdob         WorkDay ERP   \n",
       "4                         name : gopi         WorkDay ERP   \n",
       "\n",
       "                                 Experience  \\\n",
       "0  Developer Summary2.4 years of experience   \n",
       "1                   than 4 years of working   \n",
       "2           OBJECTIVE:Have 2.11 years of IT   \n",
       "3                    around 5.1 years of IT   \n",
       "4                  with 3+ years as Workday   \n",
       "\n",
       "                                            SkillSet  \\\n",
       "0  [sql, msbi, ssms, ssis, ssrs, triggers, cte, etl]   \n",
       "1    [sql, mariadb, triggers, ddl, dml, t-sql, ssms]   \n",
       "2                  [sql, oracle, triggers, cte, etl]   \n",
       "3  [workday, hcm, etl, eib, xml, ccw, picof, peci...   \n",
       "4              [workday, hcm, eib, picof, xml, birt]   \n",
       "\n",
       "                                            TextInfo  \n",
       "0  [anil, kumar, maddukuri, sql, &, msbi, develop...  \n",
       "1  [aradhana, tripathicurr, locat, :, gachibowli,...  \n",
       "2  [buddha, vamsi, career, object, :, have, 211, ...  \n",
       "3  [chinna, subbarayudu, mdob, 06th, march, 1994n...  \n",
       "4  [name, :, gopi, krishna, reddi, profession, su...  "
      ]
     },
     "execution_count": 26,
     "metadata": {},
     "output_type": "execute_result"
    }
   ],
   "source": [
    "ResumeText.head()"
   ]
  },
  {
   "cell_type": "code",
   "execution_count": 27,
   "id": "ef932ff1",
   "metadata": {},
   "outputs": [],
   "source": [
    "from sklearn import preprocessing\n",
    "from sklearn.preprocessing import LabelEncoder\n",
    "lb=preprocessing.LabelEncoder()\n",
    "ResumeText['role']= lb.fit_transform(ResumeText['RoleApplied'])"
   ]
  },
  {
   "cell_type": "code",
   "execution_count": 28,
   "id": "67bad071",
   "metadata": {},
   "outputs": [],
   "source": [
    "df=pd.DataFrame(ResumeText.drop([\"Name\"],axis=1))\n",
    "df=df.drop([\"RoleApplied\"],axis=1)\n",
    "df=df.drop([\"Experience\"],axis=1)\n",
    "df=df.drop([\"SkillSet\"],axis=1)"
   ]
  },
  {
   "cell_type": "code",
   "execution_count": 29,
   "id": "b3373cfb",
   "metadata": {},
   "outputs": [
    {
     "data": {
      "text/html": [
       "<div>\n",
       "<style scoped>\n",
       "    .dataframe tbody tr th:only-of-type {\n",
       "        vertical-align: middle;\n",
       "    }\n",
       "\n",
       "    .dataframe tbody tr th {\n",
       "        vertical-align: top;\n",
       "    }\n",
       "\n",
       "    .dataframe thead th {\n",
       "        text-align: right;\n",
       "    }\n",
       "</style>\n",
       "<table border=\"1\" class=\"dataframe\">\n",
       "  <thead>\n",
       "    <tr style=\"text-align: right;\">\n",
       "      <th></th>\n",
       "      <th>TextInfo</th>\n",
       "      <th>role</th>\n",
       "    </tr>\n",
       "  </thead>\n",
       "  <tbody>\n",
       "    <tr>\n",
       "      <th>0</th>\n",
       "      <td>[anil, kumar, maddukuri, sql, &amp;, msbi, develop...</td>\n",
       "      <td>0</td>\n",
       "    </tr>\n",
       "    <tr>\n",
       "      <th>1</th>\n",
       "      <td>[aradhana, tripathicurr, locat, :, gachibowli,...</td>\n",
       "      <td>0</td>\n",
       "    </tr>\n",
       "    <tr>\n",
       "      <th>2</th>\n",
       "      <td>[buddha, vamsi, career, object, :, have, 211, ...</td>\n",
       "      <td>0</td>\n",
       "    </tr>\n",
       "    <tr>\n",
       "      <th>3</th>\n",
       "      <td>[chinna, subbarayudu, mdob, 06th, march, 1994n...</td>\n",
       "      <td>3</td>\n",
       "    </tr>\n",
       "    <tr>\n",
       "      <th>4</th>\n",
       "      <td>[name, :, gopi, krishna, reddi, profession, su...</td>\n",
       "      <td>3</td>\n",
       "    </tr>\n",
       "  </tbody>\n",
       "</table>\n",
       "</div>"
      ],
      "text/plain": [
       "                                            TextInfo  role\n",
       "0  [anil, kumar, maddukuri, sql, &, msbi, develop...     0\n",
       "1  [aradhana, tripathicurr, locat, :, gachibowli,...     0\n",
       "2  [buddha, vamsi, career, object, :, have, 211, ...     0\n",
       "3  [chinna, subbarayudu, mdob, 06th, march, 1994n...     3\n",
       "4  [name, :, gopi, krishna, reddi, profession, su...     3"
      ]
     },
     "execution_count": 29,
     "metadata": {},
     "output_type": "execute_result"
    }
   ],
   "source": [
    "df.head()"
   ]
  },
  {
   "cell_type": "code",
   "execution_count": 30,
   "id": "85acd365",
   "metadata": {},
   "outputs": [
    {
     "data": {
      "text/plain": [
       "0     0\n",
       "1     0\n",
       "2     0\n",
       "3     3\n",
       "4     3\n",
       "     ..\n",
       "74    3\n",
       "75    0\n",
       "76    3\n",
       "77    3\n",
       "78    0\n",
       "Name: role, Length: 79, dtype: int32"
      ]
     },
     "execution_count": 30,
     "metadata": {},
     "output_type": "execute_result"
    }
   ],
   "source": [
    "df.role"
   ]
  },
  {
   "cell_type": "code",
   "execution_count": 31,
   "id": "7a356f8e",
   "metadata": {},
   "outputs": [],
   "source": [
    "df.TextInfo=df.TextInfo.apply(lambda x: \" \".join(x))"
   ]
  },
  {
   "cell_type": "code",
   "execution_count": 32,
   "id": "b9385ffb",
   "metadata": {},
   "outputs": [
    {
     "data": {
      "text/html": [
       "<div>\n",
       "<style scoped>\n",
       "    .dataframe tbody tr th:only-of-type {\n",
       "        vertical-align: middle;\n",
       "    }\n",
       "\n",
       "    .dataframe tbody tr th {\n",
       "        vertical-align: top;\n",
       "    }\n",
       "\n",
       "    .dataframe thead th {\n",
       "        text-align: right;\n",
       "    }\n",
       "</style>\n",
       "<table border=\"1\" class=\"dataframe\">\n",
       "  <thead>\n",
       "    <tr style=\"text-align: right;\">\n",
       "      <th></th>\n",
       "      <th>TextInfo</th>\n",
       "      <th>role</th>\n",
       "    </tr>\n",
       "  </thead>\n",
       "  <tbody>\n",
       "    <tr>\n",
       "      <th>0</th>\n",
       "      <td>anil kumar maddukuri sql &amp; msbi develop summar...</td>\n",
       "      <td>0</td>\n",
       "    </tr>\n",
       "    <tr>\n",
       "      <th>1</th>\n",
       "      <td>aradhana tripathicurr locat : gachibowli , hyd...</td>\n",
       "      <td>0</td>\n",
       "    </tr>\n",
       "    <tr>\n",
       "      <th>2</th>\n",
       "      <td>buddha vamsi career object : have 211 year it ...</td>\n",
       "      <td>0</td>\n",
       "    </tr>\n",
       "    <tr>\n",
       "      <th>3</th>\n",
       "      <td>chinna subbarayudu mdob 06th march 1994nation ...</td>\n",
       "      <td>3</td>\n",
       "    </tr>\n",
       "    <tr>\n",
       "      <th>4</th>\n",
       "      <td>name : gopi krishna reddi profession summeri :...</td>\n",
       "      <td>3</td>\n",
       "    </tr>\n",
       "  </tbody>\n",
       "</table>\n",
       "</div>"
      ],
      "text/plain": [
       "                                            TextInfo  role\n",
       "0  anil kumar maddukuri sql & msbi develop summar...     0\n",
       "1  aradhana tripathicurr locat : gachibowli , hyd...     0\n",
       "2  buddha vamsi career object : have 211 year it ...     0\n",
       "3  chinna subbarayudu mdob 06th march 1994nation ...     3\n",
       "4  name : gopi krishna reddi profession summeri :...     3"
      ]
     },
     "execution_count": 32,
     "metadata": {},
     "output_type": "execute_result"
    }
   ],
   "source": [
    "df.head()"
   ]
  },
  {
   "cell_type": "code",
   "execution_count": 33,
   "id": "472e57a4",
   "metadata": {},
   "outputs": [],
   "source": [
    "from sklearn.feature_extraction.text import TfidfVectorizer\n",
    "import numpy as np"
   ]
  },
  {
   "cell_type": "code",
   "execution_count": 34,
   "id": "805ca359",
   "metadata": {},
   "outputs": [
    {
     "data": {
      "text/html": [
       "<div>\n",
       "<style scoped>\n",
       "    .dataframe tbody tr th:only-of-type {\n",
       "        vertical-align: middle;\n",
       "    }\n",
       "\n",
       "    .dataframe tbody tr th {\n",
       "        vertical-align: top;\n",
       "    }\n",
       "\n",
       "    .dataframe thead th {\n",
       "        text-align: right;\n",
       "    }\n",
       "</style>\n",
       "<table border=\"1\" class=\"dataframe\">\n",
       "  <thead>\n",
       "    <tr style=\"text-align: right;\">\n",
       "      <th></th>\n",
       "      <th>anil</th>\n",
       "      <th>kumar</th>\n",
       "      <th>maddukuri</th>\n",
       "      <th>sql</th>\n",
       "      <th>msbi</th>\n",
       "      <th>develop</th>\n",
       "      <th>summary2</th>\n",
       "      <th>year</th>\n",
       "      <th>experi</th>\n",
       "      <th>ms</th>\n",
       "      <th>...</th>\n",
       "      <th>after</th>\n",
       "      <th>nsdcrole</th>\n",
       "      <th>tablesdevelop</th>\n",
       "      <th>functionsbi</th>\n",
       "      <th>tablesinvolv</th>\n",
       "      <th>datarespons</th>\n",
       "      <th>logicexperi</th>\n",
       "      <th>toolinvolv</th>\n",
       "      <th>emailerinvolv</th>\n",
       "      <th>bib</th>\n",
       "    </tr>\n",
       "  </thead>\n",
       "  <tbody>\n",
       "    <tr>\n",
       "      <th>0</th>\n",
       "      <td>0.0</td>\n",
       "      <td>0.0</td>\n",
       "      <td>0.0</td>\n",
       "      <td>0.0</td>\n",
       "      <td>0.000000</td>\n",
       "      <td>0.0</td>\n",
       "      <td>0.0</td>\n",
       "      <td>0.0</td>\n",
       "      <td>0.0</td>\n",
       "      <td>0.0</td>\n",
       "      <td>...</td>\n",
       "      <td>0.0</td>\n",
       "      <td>0.0</td>\n",
       "      <td>0.0</td>\n",
       "      <td>0.0</td>\n",
       "      <td>0.0</td>\n",
       "      <td>0.0</td>\n",
       "      <td>0.0</td>\n",
       "      <td>0.0</td>\n",
       "      <td>0.0</td>\n",
       "      <td>0.0</td>\n",
       "    </tr>\n",
       "    <tr>\n",
       "      <th>1</th>\n",
       "      <td>0.0</td>\n",
       "      <td>0.0</td>\n",
       "      <td>0.0</td>\n",
       "      <td>0.0</td>\n",
       "      <td>0.000000</td>\n",
       "      <td>0.0</td>\n",
       "      <td>0.0</td>\n",
       "      <td>0.0</td>\n",
       "      <td>0.0</td>\n",
       "      <td>0.0</td>\n",
       "      <td>...</td>\n",
       "      <td>0.0</td>\n",
       "      <td>0.0</td>\n",
       "      <td>0.0</td>\n",
       "      <td>0.0</td>\n",
       "      <td>0.0</td>\n",
       "      <td>0.0</td>\n",
       "      <td>0.0</td>\n",
       "      <td>0.0</td>\n",
       "      <td>0.0</td>\n",
       "      <td>0.0</td>\n",
       "    </tr>\n",
       "    <tr>\n",
       "      <th>2</th>\n",
       "      <td>0.0</td>\n",
       "      <td>0.0</td>\n",
       "      <td>0.0</td>\n",
       "      <td>0.0</td>\n",
       "      <td>0.000000</td>\n",
       "      <td>0.0</td>\n",
       "      <td>0.0</td>\n",
       "      <td>0.0</td>\n",
       "      <td>0.0</td>\n",
       "      <td>0.0</td>\n",
       "      <td>...</td>\n",
       "      <td>0.0</td>\n",
       "      <td>0.0</td>\n",
       "      <td>0.0</td>\n",
       "      <td>0.0</td>\n",
       "      <td>0.0</td>\n",
       "      <td>0.0</td>\n",
       "      <td>0.0</td>\n",
       "      <td>0.0</td>\n",
       "      <td>0.0</td>\n",
       "      <td>0.0</td>\n",
       "    </tr>\n",
       "    <tr>\n",
       "      <th>3</th>\n",
       "      <td>0.0</td>\n",
       "      <td>0.0</td>\n",
       "      <td>0.0</td>\n",
       "      <td>0.0</td>\n",
       "      <td>0.000000</td>\n",
       "      <td>0.0</td>\n",
       "      <td>0.0</td>\n",
       "      <td>0.0</td>\n",
       "      <td>0.0</td>\n",
       "      <td>0.0</td>\n",
       "      <td>...</td>\n",
       "      <td>0.0</td>\n",
       "      <td>0.0</td>\n",
       "      <td>0.0</td>\n",
       "      <td>0.0</td>\n",
       "      <td>0.0</td>\n",
       "      <td>0.0</td>\n",
       "      <td>0.0</td>\n",
       "      <td>0.0</td>\n",
       "      <td>0.0</td>\n",
       "      <td>0.0</td>\n",
       "    </tr>\n",
       "    <tr>\n",
       "      <th>4</th>\n",
       "      <td>0.0</td>\n",
       "      <td>0.0</td>\n",
       "      <td>0.0</td>\n",
       "      <td>0.0</td>\n",
       "      <td>0.047206</td>\n",
       "      <td>0.0</td>\n",
       "      <td>0.0</td>\n",
       "      <td>0.0</td>\n",
       "      <td>0.0</td>\n",
       "      <td>0.0</td>\n",
       "      <td>...</td>\n",
       "      <td>0.0</td>\n",
       "      <td>0.0</td>\n",
       "      <td>0.0</td>\n",
       "      <td>0.0</td>\n",
       "      <td>0.0</td>\n",
       "      <td>0.0</td>\n",
       "      <td>0.0</td>\n",
       "      <td>0.0</td>\n",
       "      <td>0.0</td>\n",
       "      <td>0.0</td>\n",
       "    </tr>\n",
       "    <tr>\n",
       "      <th>...</th>\n",
       "      <td>...</td>\n",
       "      <td>...</td>\n",
       "      <td>...</td>\n",
       "      <td>...</td>\n",
       "      <td>...</td>\n",
       "      <td>...</td>\n",
       "      <td>...</td>\n",
       "      <td>...</td>\n",
       "      <td>...</td>\n",
       "      <td>...</td>\n",
       "      <td>...</td>\n",
       "      <td>...</td>\n",
       "      <td>...</td>\n",
       "      <td>...</td>\n",
       "      <td>...</td>\n",
       "      <td>...</td>\n",
       "      <td>...</td>\n",
       "      <td>...</td>\n",
       "      <td>...</td>\n",
       "      <td>...</td>\n",
       "      <td>...</td>\n",
       "    </tr>\n",
       "    <tr>\n",
       "      <th>74</th>\n",
       "      <td>0.0</td>\n",
       "      <td>0.0</td>\n",
       "      <td>0.0</td>\n",
       "      <td>0.0</td>\n",
       "      <td>0.000000</td>\n",
       "      <td>0.0</td>\n",
       "      <td>0.0</td>\n",
       "      <td>0.0</td>\n",
       "      <td>0.0</td>\n",
       "      <td>0.0</td>\n",
       "      <td>...</td>\n",
       "      <td>0.0</td>\n",
       "      <td>0.0</td>\n",
       "      <td>0.0</td>\n",
       "      <td>0.0</td>\n",
       "      <td>0.0</td>\n",
       "      <td>0.0</td>\n",
       "      <td>0.0</td>\n",
       "      <td>0.0</td>\n",
       "      <td>0.0</td>\n",
       "      <td>0.0</td>\n",
       "    </tr>\n",
       "    <tr>\n",
       "      <th>75</th>\n",
       "      <td>0.0</td>\n",
       "      <td>0.0</td>\n",
       "      <td>0.0</td>\n",
       "      <td>0.0</td>\n",
       "      <td>0.000000</td>\n",
       "      <td>0.0</td>\n",
       "      <td>0.0</td>\n",
       "      <td>0.0</td>\n",
       "      <td>0.0</td>\n",
       "      <td>0.0</td>\n",
       "      <td>...</td>\n",
       "      <td>0.0</td>\n",
       "      <td>0.0</td>\n",
       "      <td>0.0</td>\n",
       "      <td>0.0</td>\n",
       "      <td>0.0</td>\n",
       "      <td>0.0</td>\n",
       "      <td>0.0</td>\n",
       "      <td>0.0</td>\n",
       "      <td>0.0</td>\n",
       "      <td>0.0</td>\n",
       "    </tr>\n",
       "    <tr>\n",
       "      <th>76</th>\n",
       "      <td>0.0</td>\n",
       "      <td>0.0</td>\n",
       "      <td>0.0</td>\n",
       "      <td>0.0</td>\n",
       "      <td>0.000000</td>\n",
       "      <td>0.0</td>\n",
       "      <td>0.0</td>\n",
       "      <td>0.0</td>\n",
       "      <td>0.0</td>\n",
       "      <td>0.0</td>\n",
       "      <td>...</td>\n",
       "      <td>0.0</td>\n",
       "      <td>0.0</td>\n",
       "      <td>0.0</td>\n",
       "      <td>0.0</td>\n",
       "      <td>0.0</td>\n",
       "      <td>0.0</td>\n",
       "      <td>0.0</td>\n",
       "      <td>0.0</td>\n",
       "      <td>0.0</td>\n",
       "      <td>0.0</td>\n",
       "    </tr>\n",
       "    <tr>\n",
       "      <th>77</th>\n",
       "      <td>0.0</td>\n",
       "      <td>0.0</td>\n",
       "      <td>0.0</td>\n",
       "      <td>0.0</td>\n",
       "      <td>0.000000</td>\n",
       "      <td>0.0</td>\n",
       "      <td>0.0</td>\n",
       "      <td>0.0</td>\n",
       "      <td>0.0</td>\n",
       "      <td>0.0</td>\n",
       "      <td>...</td>\n",
       "      <td>0.0</td>\n",
       "      <td>0.0</td>\n",
       "      <td>0.0</td>\n",
       "      <td>0.0</td>\n",
       "      <td>0.0</td>\n",
       "      <td>0.0</td>\n",
       "      <td>0.0</td>\n",
       "      <td>0.0</td>\n",
       "      <td>0.0</td>\n",
       "      <td>0.0</td>\n",
       "    </tr>\n",
       "    <tr>\n",
       "      <th>78</th>\n",
       "      <td>0.0</td>\n",
       "      <td>0.0</td>\n",
       "      <td>0.0</td>\n",
       "      <td>0.0</td>\n",
       "      <td>0.000000</td>\n",
       "      <td>0.0</td>\n",
       "      <td>0.0</td>\n",
       "      <td>0.0</td>\n",
       "      <td>0.0</td>\n",
       "      <td>0.0</td>\n",
       "      <td>...</td>\n",
       "      <td>0.0</td>\n",
       "      <td>0.0</td>\n",
       "      <td>0.0</td>\n",
       "      <td>0.0</td>\n",
       "      <td>0.0</td>\n",
       "      <td>0.0</td>\n",
       "      <td>0.0</td>\n",
       "      <td>0.0</td>\n",
       "      <td>0.0</td>\n",
       "      <td>0.0</td>\n",
       "    </tr>\n",
       "  </tbody>\n",
       "</table>\n",
       "<p>79 rows × 5109 columns</p>\n",
       "</div>"
      ],
      "text/plain": [
       "    anil  kumar  maddukuri  sql      msbi  develop  summary2  year  experi  \\\n",
       "0    0.0    0.0        0.0  0.0  0.000000      0.0       0.0   0.0     0.0   \n",
       "1    0.0    0.0        0.0  0.0  0.000000      0.0       0.0   0.0     0.0   \n",
       "2    0.0    0.0        0.0  0.0  0.000000      0.0       0.0   0.0     0.0   \n",
       "3    0.0    0.0        0.0  0.0  0.000000      0.0       0.0   0.0     0.0   \n",
       "4    0.0    0.0        0.0  0.0  0.047206      0.0       0.0   0.0     0.0   \n",
       "..   ...    ...        ...  ...       ...      ...       ...   ...     ...   \n",
       "74   0.0    0.0        0.0  0.0  0.000000      0.0       0.0   0.0     0.0   \n",
       "75   0.0    0.0        0.0  0.0  0.000000      0.0       0.0   0.0     0.0   \n",
       "76   0.0    0.0        0.0  0.0  0.000000      0.0       0.0   0.0     0.0   \n",
       "77   0.0    0.0        0.0  0.0  0.000000      0.0       0.0   0.0     0.0   \n",
       "78   0.0    0.0        0.0  0.0  0.000000      0.0       0.0   0.0     0.0   \n",
       "\n",
       "     ms  ...  after  nsdcrole  tablesdevelop  functionsbi  tablesinvolv  \\\n",
       "0   0.0  ...    0.0       0.0            0.0          0.0           0.0   \n",
       "1   0.0  ...    0.0       0.0            0.0          0.0           0.0   \n",
       "2   0.0  ...    0.0       0.0            0.0          0.0           0.0   \n",
       "3   0.0  ...    0.0       0.0            0.0          0.0           0.0   \n",
       "4   0.0  ...    0.0       0.0            0.0          0.0           0.0   \n",
       "..  ...  ...    ...       ...            ...          ...           ...   \n",
       "74  0.0  ...    0.0       0.0            0.0          0.0           0.0   \n",
       "75  0.0  ...    0.0       0.0            0.0          0.0           0.0   \n",
       "76  0.0  ...    0.0       0.0            0.0          0.0           0.0   \n",
       "77  0.0  ...    0.0       0.0            0.0          0.0           0.0   \n",
       "78  0.0  ...    0.0       0.0            0.0          0.0           0.0   \n",
       "\n",
       "    datarespons  logicexperi  toolinvolv  emailerinvolv  bib  \n",
       "0           0.0          0.0         0.0            0.0  0.0  \n",
       "1           0.0          0.0         0.0            0.0  0.0  \n",
       "2           0.0          0.0         0.0            0.0  0.0  \n",
       "3           0.0          0.0         0.0            0.0  0.0  \n",
       "4           0.0          0.0         0.0            0.0  0.0  \n",
       "..          ...          ...         ...            ...  ...  \n",
       "74          0.0          0.0         0.0            0.0  0.0  \n",
       "75          0.0          0.0         0.0            0.0  0.0  \n",
       "76          0.0          0.0         0.0            0.0  0.0  \n",
       "77          0.0          0.0         0.0            0.0  0.0  \n",
       "78          0.0          0.0         0.0            0.0  0.0  \n",
       "\n",
       "[79 rows x 5109 columns]"
      ]
     },
     "execution_count": 34,
     "metadata": {},
     "output_type": "execute_result"
    }
   ],
   "source": [
    "vectorizer = TfidfVectorizer()\n",
    "\n",
    "tfidf = vectorizer.fit_transform(df.TextInfo.values).toarray() \n",
    "final_df=pd.DataFrame(tfidf,columns=vectorizer.vocabulary_)\n",
    "final_df"
   ]
  },
  {
   "cell_type": "code",
   "execution_count": 35,
   "id": "79f55aaf",
   "metadata": {},
   "outputs": [
    {
     "data": {
      "text/html": [
       "<div>\n",
       "<style scoped>\n",
       "    .dataframe tbody tr th:only-of-type {\n",
       "        vertical-align: middle;\n",
       "    }\n",
       "\n",
       "    .dataframe tbody tr th {\n",
       "        vertical-align: top;\n",
       "    }\n",
       "\n",
       "    .dataframe thead th {\n",
       "        text-align: right;\n",
       "    }\n",
       "</style>\n",
       "<table border=\"1\" class=\"dataframe\">\n",
       "  <thead>\n",
       "    <tr style=\"text-align: right;\">\n",
       "      <th></th>\n",
       "      <th>anil</th>\n",
       "      <th>kumar</th>\n",
       "      <th>maddukuri</th>\n",
       "      <th>sql</th>\n",
       "      <th>msbi</th>\n",
       "      <th>develop</th>\n",
       "      <th>summary2</th>\n",
       "      <th>year</th>\n",
       "      <th>experi</th>\n",
       "      <th>ms</th>\n",
       "      <th>...</th>\n",
       "      <th>nsdcrole</th>\n",
       "      <th>tablesdevelop</th>\n",
       "      <th>functionsbi</th>\n",
       "      <th>tablesinvolv</th>\n",
       "      <th>datarespons</th>\n",
       "      <th>logicexperi</th>\n",
       "      <th>toolinvolv</th>\n",
       "      <th>emailerinvolv</th>\n",
       "      <th>bib</th>\n",
       "      <th>Role</th>\n",
       "    </tr>\n",
       "  </thead>\n",
       "  <tbody>\n",
       "    <tr>\n",
       "      <th>0</th>\n",
       "      <td>0.0</td>\n",
       "      <td>0.0</td>\n",
       "      <td>0.0</td>\n",
       "      <td>0.0</td>\n",
       "      <td>0.000000</td>\n",
       "      <td>0.0</td>\n",
       "      <td>0.0</td>\n",
       "      <td>0.0</td>\n",
       "      <td>0.0</td>\n",
       "      <td>0.0</td>\n",
       "      <td>...</td>\n",
       "      <td>0.0</td>\n",
       "      <td>0.0</td>\n",
       "      <td>0.0</td>\n",
       "      <td>0.0</td>\n",
       "      <td>0.0</td>\n",
       "      <td>0.0</td>\n",
       "      <td>0.0</td>\n",
       "      <td>0.0</td>\n",
       "      <td>0.0</td>\n",
       "      <td>0</td>\n",
       "    </tr>\n",
       "    <tr>\n",
       "      <th>1</th>\n",
       "      <td>0.0</td>\n",
       "      <td>0.0</td>\n",
       "      <td>0.0</td>\n",
       "      <td>0.0</td>\n",
       "      <td>0.000000</td>\n",
       "      <td>0.0</td>\n",
       "      <td>0.0</td>\n",
       "      <td>0.0</td>\n",
       "      <td>0.0</td>\n",
       "      <td>0.0</td>\n",
       "      <td>...</td>\n",
       "      <td>0.0</td>\n",
       "      <td>0.0</td>\n",
       "      <td>0.0</td>\n",
       "      <td>0.0</td>\n",
       "      <td>0.0</td>\n",
       "      <td>0.0</td>\n",
       "      <td>0.0</td>\n",
       "      <td>0.0</td>\n",
       "      <td>0.0</td>\n",
       "      <td>0</td>\n",
       "    </tr>\n",
       "    <tr>\n",
       "      <th>2</th>\n",
       "      <td>0.0</td>\n",
       "      <td>0.0</td>\n",
       "      <td>0.0</td>\n",
       "      <td>0.0</td>\n",
       "      <td>0.000000</td>\n",
       "      <td>0.0</td>\n",
       "      <td>0.0</td>\n",
       "      <td>0.0</td>\n",
       "      <td>0.0</td>\n",
       "      <td>0.0</td>\n",
       "      <td>...</td>\n",
       "      <td>0.0</td>\n",
       "      <td>0.0</td>\n",
       "      <td>0.0</td>\n",
       "      <td>0.0</td>\n",
       "      <td>0.0</td>\n",
       "      <td>0.0</td>\n",
       "      <td>0.0</td>\n",
       "      <td>0.0</td>\n",
       "      <td>0.0</td>\n",
       "      <td>0</td>\n",
       "    </tr>\n",
       "    <tr>\n",
       "      <th>3</th>\n",
       "      <td>0.0</td>\n",
       "      <td>0.0</td>\n",
       "      <td>0.0</td>\n",
       "      <td>0.0</td>\n",
       "      <td>0.000000</td>\n",
       "      <td>0.0</td>\n",
       "      <td>0.0</td>\n",
       "      <td>0.0</td>\n",
       "      <td>0.0</td>\n",
       "      <td>0.0</td>\n",
       "      <td>...</td>\n",
       "      <td>0.0</td>\n",
       "      <td>0.0</td>\n",
       "      <td>0.0</td>\n",
       "      <td>0.0</td>\n",
       "      <td>0.0</td>\n",
       "      <td>0.0</td>\n",
       "      <td>0.0</td>\n",
       "      <td>0.0</td>\n",
       "      <td>0.0</td>\n",
       "      <td>3</td>\n",
       "    </tr>\n",
       "    <tr>\n",
       "      <th>4</th>\n",
       "      <td>0.0</td>\n",
       "      <td>0.0</td>\n",
       "      <td>0.0</td>\n",
       "      <td>0.0</td>\n",
       "      <td>0.047206</td>\n",
       "      <td>0.0</td>\n",
       "      <td>0.0</td>\n",
       "      <td>0.0</td>\n",
       "      <td>0.0</td>\n",
       "      <td>0.0</td>\n",
       "      <td>...</td>\n",
       "      <td>0.0</td>\n",
       "      <td>0.0</td>\n",
       "      <td>0.0</td>\n",
       "      <td>0.0</td>\n",
       "      <td>0.0</td>\n",
       "      <td>0.0</td>\n",
       "      <td>0.0</td>\n",
       "      <td>0.0</td>\n",
       "      <td>0.0</td>\n",
       "      <td>3</td>\n",
       "    </tr>\n",
       "    <tr>\n",
       "      <th>...</th>\n",
       "      <td>...</td>\n",
       "      <td>...</td>\n",
       "      <td>...</td>\n",
       "      <td>...</td>\n",
       "      <td>...</td>\n",
       "      <td>...</td>\n",
       "      <td>...</td>\n",
       "      <td>...</td>\n",
       "      <td>...</td>\n",
       "      <td>...</td>\n",
       "      <td>...</td>\n",
       "      <td>...</td>\n",
       "      <td>...</td>\n",
       "      <td>...</td>\n",
       "      <td>...</td>\n",
       "      <td>...</td>\n",
       "      <td>...</td>\n",
       "      <td>...</td>\n",
       "      <td>...</td>\n",
       "      <td>...</td>\n",
       "      <td>...</td>\n",
       "    </tr>\n",
       "    <tr>\n",
       "      <th>74</th>\n",
       "      <td>0.0</td>\n",
       "      <td>0.0</td>\n",
       "      <td>0.0</td>\n",
       "      <td>0.0</td>\n",
       "      <td>0.000000</td>\n",
       "      <td>0.0</td>\n",
       "      <td>0.0</td>\n",
       "      <td>0.0</td>\n",
       "      <td>0.0</td>\n",
       "      <td>0.0</td>\n",
       "      <td>...</td>\n",
       "      <td>0.0</td>\n",
       "      <td>0.0</td>\n",
       "      <td>0.0</td>\n",
       "      <td>0.0</td>\n",
       "      <td>0.0</td>\n",
       "      <td>0.0</td>\n",
       "      <td>0.0</td>\n",
       "      <td>0.0</td>\n",
       "      <td>0.0</td>\n",
       "      <td>3</td>\n",
       "    </tr>\n",
       "    <tr>\n",
       "      <th>75</th>\n",
       "      <td>0.0</td>\n",
       "      <td>0.0</td>\n",
       "      <td>0.0</td>\n",
       "      <td>0.0</td>\n",
       "      <td>0.000000</td>\n",
       "      <td>0.0</td>\n",
       "      <td>0.0</td>\n",
       "      <td>0.0</td>\n",
       "      <td>0.0</td>\n",
       "      <td>0.0</td>\n",
       "      <td>...</td>\n",
       "      <td>0.0</td>\n",
       "      <td>0.0</td>\n",
       "      <td>0.0</td>\n",
       "      <td>0.0</td>\n",
       "      <td>0.0</td>\n",
       "      <td>0.0</td>\n",
       "      <td>0.0</td>\n",
       "      <td>0.0</td>\n",
       "      <td>0.0</td>\n",
       "      <td>0</td>\n",
       "    </tr>\n",
       "    <tr>\n",
       "      <th>76</th>\n",
       "      <td>0.0</td>\n",
       "      <td>0.0</td>\n",
       "      <td>0.0</td>\n",
       "      <td>0.0</td>\n",
       "      <td>0.000000</td>\n",
       "      <td>0.0</td>\n",
       "      <td>0.0</td>\n",
       "      <td>0.0</td>\n",
       "      <td>0.0</td>\n",
       "      <td>0.0</td>\n",
       "      <td>...</td>\n",
       "      <td>0.0</td>\n",
       "      <td>0.0</td>\n",
       "      <td>0.0</td>\n",
       "      <td>0.0</td>\n",
       "      <td>0.0</td>\n",
       "      <td>0.0</td>\n",
       "      <td>0.0</td>\n",
       "      <td>0.0</td>\n",
       "      <td>0.0</td>\n",
       "      <td>3</td>\n",
       "    </tr>\n",
       "    <tr>\n",
       "      <th>77</th>\n",
       "      <td>0.0</td>\n",
       "      <td>0.0</td>\n",
       "      <td>0.0</td>\n",
       "      <td>0.0</td>\n",
       "      <td>0.000000</td>\n",
       "      <td>0.0</td>\n",
       "      <td>0.0</td>\n",
       "      <td>0.0</td>\n",
       "      <td>0.0</td>\n",
       "      <td>0.0</td>\n",
       "      <td>...</td>\n",
       "      <td>0.0</td>\n",
       "      <td>0.0</td>\n",
       "      <td>0.0</td>\n",
       "      <td>0.0</td>\n",
       "      <td>0.0</td>\n",
       "      <td>0.0</td>\n",
       "      <td>0.0</td>\n",
       "      <td>0.0</td>\n",
       "      <td>0.0</td>\n",
       "      <td>3</td>\n",
       "    </tr>\n",
       "    <tr>\n",
       "      <th>78</th>\n",
       "      <td>0.0</td>\n",
       "      <td>0.0</td>\n",
       "      <td>0.0</td>\n",
       "      <td>0.0</td>\n",
       "      <td>0.000000</td>\n",
       "      <td>0.0</td>\n",
       "      <td>0.0</td>\n",
       "      <td>0.0</td>\n",
       "      <td>0.0</td>\n",
       "      <td>0.0</td>\n",
       "      <td>...</td>\n",
       "      <td>0.0</td>\n",
       "      <td>0.0</td>\n",
       "      <td>0.0</td>\n",
       "      <td>0.0</td>\n",
       "      <td>0.0</td>\n",
       "      <td>0.0</td>\n",
       "      <td>0.0</td>\n",
       "      <td>0.0</td>\n",
       "      <td>0.0</td>\n",
       "      <td>0</td>\n",
       "    </tr>\n",
       "  </tbody>\n",
       "</table>\n",
       "<p>79 rows × 5110 columns</p>\n",
       "</div>"
      ],
      "text/plain": [
       "    anil  kumar  maddukuri  sql      msbi  develop  summary2  year  experi  \\\n",
       "0    0.0    0.0        0.0  0.0  0.000000      0.0       0.0   0.0     0.0   \n",
       "1    0.0    0.0        0.0  0.0  0.000000      0.0       0.0   0.0     0.0   \n",
       "2    0.0    0.0        0.0  0.0  0.000000      0.0       0.0   0.0     0.0   \n",
       "3    0.0    0.0        0.0  0.0  0.000000      0.0       0.0   0.0     0.0   \n",
       "4    0.0    0.0        0.0  0.0  0.047206      0.0       0.0   0.0     0.0   \n",
       "..   ...    ...        ...  ...       ...      ...       ...   ...     ...   \n",
       "74   0.0    0.0        0.0  0.0  0.000000      0.0       0.0   0.0     0.0   \n",
       "75   0.0    0.0        0.0  0.0  0.000000      0.0       0.0   0.0     0.0   \n",
       "76   0.0    0.0        0.0  0.0  0.000000      0.0       0.0   0.0     0.0   \n",
       "77   0.0    0.0        0.0  0.0  0.000000      0.0       0.0   0.0     0.0   \n",
       "78   0.0    0.0        0.0  0.0  0.000000      0.0       0.0   0.0     0.0   \n",
       "\n",
       "     ms  ...  nsdcrole  tablesdevelop  functionsbi  tablesinvolv  datarespons  \\\n",
       "0   0.0  ...       0.0            0.0          0.0           0.0          0.0   \n",
       "1   0.0  ...       0.0            0.0          0.0           0.0          0.0   \n",
       "2   0.0  ...       0.0            0.0          0.0           0.0          0.0   \n",
       "3   0.0  ...       0.0            0.0          0.0           0.0          0.0   \n",
       "4   0.0  ...       0.0            0.0          0.0           0.0          0.0   \n",
       "..  ...  ...       ...            ...          ...           ...          ...   \n",
       "74  0.0  ...       0.0            0.0          0.0           0.0          0.0   \n",
       "75  0.0  ...       0.0            0.0          0.0           0.0          0.0   \n",
       "76  0.0  ...       0.0            0.0          0.0           0.0          0.0   \n",
       "77  0.0  ...       0.0            0.0          0.0           0.0          0.0   \n",
       "78  0.0  ...       0.0            0.0          0.0           0.0          0.0   \n",
       "\n",
       "    logicexperi  toolinvolv  emailerinvolv  bib  Role  \n",
       "0           0.0         0.0            0.0  0.0     0  \n",
       "1           0.0         0.0            0.0  0.0     0  \n",
       "2           0.0         0.0            0.0  0.0     0  \n",
       "3           0.0         0.0            0.0  0.0     3  \n",
       "4           0.0         0.0            0.0  0.0     3  \n",
       "..          ...         ...            ...  ...   ...  \n",
       "74          0.0         0.0            0.0  0.0     3  \n",
       "75          0.0         0.0            0.0  0.0     0  \n",
       "76          0.0         0.0            0.0  0.0     3  \n",
       "77          0.0         0.0            0.0  0.0     3  \n",
       "78          0.0         0.0            0.0  0.0     0  \n",
       "\n",
       "[79 rows x 5110 columns]"
      ]
     },
     "execution_count": 35,
     "metadata": {},
     "output_type": "execute_result"
    }
   ],
   "source": [
    "final_df['Role']=df['role']\n",
    "final_df"
   ]
  },
  {
   "cell_type": "markdown",
   "id": "70f9add5",
   "metadata": {},
   "source": [
    "## 6. MODEL BUILDING"
   ]
  },
  {
   "cell_type": "code",
   "execution_count": 36,
   "id": "2f816d75",
   "metadata": {},
   "outputs": [],
   "source": [
    "from sklearn.tree import  DecisionTreeClassifier\n",
    "from sklearn.ensemble import RandomForestClassifier\n",
    "from sklearn.ensemble import AdaBoostClassifier\n",
    "from sklearn.ensemble import GradientBoostingClassifier\n",
    "from sklearn.multiclass import OneVsRestClassifier\n",
    "from xgboost import XGBClassifier\n",
    "from sklearn.svm import SVC\n",
    "from sklearn.neighbors import KNeighborsClassifier\n",
    "from sklearn.naive_bayes import MultinomialNB\n",
    "from sklearn.naive_bayes import GaussianNB \n",
    "\n",
    "from sklearn.model_selection import train_test_split, KFold, GridSearchCV\n",
    "from sklearn.metrics import accuracy_score, confusion_matrix, classification_report"
   ]
  },
  {
   "cell_type": "code",
   "execution_count": 37,
   "id": "923e813f",
   "metadata": {},
   "outputs": [],
   "source": [
    "X=final_df.drop('Role', axis=1)\n",
    "Y=final_df.Role"
   ]
  },
  {
   "cell_type": "code",
   "execution_count": 38,
   "id": "0eaa6b81",
   "metadata": {},
   "outputs": [],
   "source": [
    "# SPLITTING DATASET INTO TRAINING DATA AND TESTING DATA\n",
    "X_train, X_test, Y_train, Y_test = train_test_split(X, Y, test_size = 0.2, random_state=78) "
   ]
  },
  {
   "cell_type": "code",
   "execution_count": 39,
   "id": "ed9196bb",
   "metadata": {},
   "outputs": [
    {
     "data": {
      "text/plain": [
       "((63, 5109), (16, 5109), (63,), (16,))"
      ]
     },
     "execution_count": 39,
     "metadata": {},
     "output_type": "execute_result"
    }
   ],
   "source": [
    "X_train.shape,X_test.shape ,Y_train.shape ,Y_test.shape "
   ]
  },
  {
   "cell_type": "markdown",
   "id": "42a323dd",
   "metadata": {},
   "source": [
    "### 1.  DECISION TREE CLASSIFIER"
   ]
  },
  {
   "cell_type": "code",
   "execution_count": 40,
   "id": "186f63c0",
   "metadata": {},
   "outputs": [
    {
     "data": {
      "text/plain": [
       "(array([1, 0, 3, 3, 3, 2, 3, 0, 1, 3, 0, 2, 0, 1, 1, 0, 1, 2, 2, 0, 3, 0,\n",
       "        3, 2, 2, 1, 3, 3, 2, 1, 0, 3, 1, 4, 0, 2, 1, 2, 2, 1, 4, 0, 2, 0,\n",
       "        2, 3, 2, 3, 2, 3, 2, 3, 1, 3, 3, 3, 2, 2, 1, 1, 0, 2, 1]),\n",
       " array([3, 0, 1, 3, 1, 0, 0, 4, 0, 0, 3, 2, 0, 0, 2, 3]))"
      ]
     },
     "execution_count": 40,
     "metadata": {},
     "output_type": "execute_result"
    }
   ],
   "source": [
    "clf_dt=DecisionTreeClassifier() \n",
    "clf_dt.fit(X_train,Y_train) # Training Model\n",
    "y_pred_train=clf_dt.predict(X_train)\n",
    "y_pred_test=clf_dt.predict(X_test)# Testing Model\n",
    "y_pred_train,y_pred_test"
   ]
  },
  {
   "cell_type": "markdown",
   "id": "715e03ea",
   "metadata": {},
   "source": [
    "#### ACCURACY OF MODEL"
   ]
  },
  {
   "cell_type": "code",
   "execution_count": 42,
   "id": "cbcbf46d",
   "metadata": {},
   "outputs": [
    {
     "data": {
      "text/plain": [
       "1.0"
      ]
     },
     "execution_count": 42,
     "metadata": {},
     "output_type": "execute_result"
    }
   ],
   "source": [
    "acc_dt_train1=accuracy_score(Y_train,y_pred_train)\n",
    "acc_dt_train1"
   ]
  },
  {
   "cell_type": "code",
   "execution_count": 43,
   "id": "ced04a5b",
   "metadata": {},
   "outputs": [
    {
     "data": {
      "text/plain": [
       "0.9375"
      ]
     },
     "execution_count": 43,
     "metadata": {},
     "output_type": "execute_result"
    }
   ],
   "source": [
    "acc_dt_test1=accuracy_score(Y_test,y_pred_test)\n",
    "acc_dt_test1"
   ]
  },
  {
   "cell_type": "markdown",
   "id": "34e3ffa6",
   "metadata": {},
   "source": [
    "#### CLASSIFICATION REPORT"
   ]
  },
  {
   "cell_type": "code",
   "execution_count": 44,
   "id": "c5b8f5fd",
   "metadata": {},
   "outputs": [
    {
     "name": "stdout",
     "output_type": "stream",
     "text": [
      "              precision    recall  f1-score   support\n",
      "\n",
      "           0       0.86      1.00      0.92         6\n",
      "           1       1.00      0.67      0.80         3\n",
      "           2       1.00      1.00      1.00         2\n",
      "           3       1.00      1.00      1.00         4\n",
      "           4       1.00      1.00      1.00         1\n",
      "\n",
      "    accuracy                           0.94        16\n",
      "   macro avg       0.97      0.93      0.94        16\n",
      "weighted avg       0.95      0.94      0.93        16\n",
      "\n"
     ]
    }
   ],
   "source": [
    "print(classification_report(Y_test,y_pred_test))"
   ]
  },
  {
   "cell_type": "markdown",
   "id": "76812d0f",
   "metadata": {},
   "source": [
    "### 2. RANDOM FOREST CLASSIFIER\n"
   ]
  },
  {
   "cell_type": "code",
   "execution_count": 45,
   "id": "e7669dc9",
   "metadata": {},
   "outputs": [
    {
     "data": {
      "text/plain": [
       "(array([1, 0, 3, 3, 3, 2, 3, 0, 1, 3, 0, 2, 0, 1, 1, 0, 1, 2, 2, 0, 3, 0,\n",
       "        3, 2, 2, 1, 3, 3, 2, 1, 0, 3, 1, 4, 0, 2, 1, 2, 2, 1, 4, 0, 2, 0,\n",
       "        2, 3, 2, 3, 2, 3, 2, 3, 1, 3, 3, 3, 2, 2, 1, 1, 0, 2, 1]),\n",
       " array([3, 1, 1, 3, 1, 0, 0, 1, 0, 0, 3, 2, 1, 1, 2, 3]))"
      ]
     },
     "execution_count": 45,
     "metadata": {},
     "output_type": "execute_result"
    }
   ],
   "source": [
    "clf_rfc=RandomForestClassifier(n_estimators = 100) \n",
    "clf_rfc.fit(X_train,Y_train) # Training Model\n",
    "y_pred_train=clf_rfc.predict(X_train)\n",
    "y_pred_test=clf_rfc.predict(X_test)# Testing Model\n",
    "y_pred_train,y_pred_test"
   ]
  },
  {
   "cell_type": "markdown",
   "id": "82fc174f",
   "metadata": {},
   "source": [
    "#### ACCURACY  OF MODEL"
   ]
  },
  {
   "cell_type": "code",
   "execution_count": 46,
   "id": "3736deac",
   "metadata": {},
   "outputs": [
    {
     "data": {
      "text/plain": [
       "1.0"
      ]
     },
     "execution_count": 46,
     "metadata": {},
     "output_type": "execute_result"
    }
   ],
   "source": [
    "acc_dt_train2=accuracy_score(Y_train,y_pred_train)\n",
    "acc_dt_train2"
   ]
  },
  {
   "cell_type": "code",
   "execution_count": 47,
   "id": "19c78b5d",
   "metadata": {},
   "outputs": [
    {
     "data": {
      "text/plain": [
       "0.8125"
      ]
     },
     "execution_count": 47,
     "metadata": {},
     "output_type": "execute_result"
    }
   ],
   "source": [
    "acc_dt_test2=accuracy_score(Y_test,y_pred_test)\n",
    "acc_dt_test2"
   ]
  },
  {
   "cell_type": "markdown",
   "id": "09d792d6",
   "metadata": {},
   "source": [
    "#### CLASSIFICATION REPORT"
   ]
  },
  {
   "cell_type": "code",
   "execution_count": 48,
   "id": "f6782047",
   "metadata": {},
   "outputs": [
    {
     "name": "stdout",
     "output_type": "stream",
     "text": [
      "              precision    recall  f1-score   support\n",
      "\n",
      "           0       1.00      0.67      0.80         6\n",
      "           1       0.50      1.00      0.67         3\n",
      "           2       1.00      1.00      1.00         2\n",
      "           3       1.00      1.00      1.00         4\n",
      "           4       0.00      0.00      0.00         1\n",
      "\n",
      "    accuracy                           0.81        16\n",
      "   macro avg       0.70      0.73      0.69        16\n",
      "weighted avg       0.84      0.81      0.80        16\n",
      "\n"
     ]
    },
    {
     "name": "stderr",
     "output_type": "stream",
     "text": [
      "C:\\Users\\haari\\anaconda3\\lib\\site-packages\\sklearn\\metrics\\_classification.py:1248: UndefinedMetricWarning: Precision and F-score are ill-defined and being set to 0.0 in labels with no predicted samples. Use `zero_division` parameter to control this behavior.\n",
      "  _warn_prf(average, modifier, msg_start, len(result))\n",
      "C:\\Users\\haari\\anaconda3\\lib\\site-packages\\sklearn\\metrics\\_classification.py:1248: UndefinedMetricWarning: Precision and F-score are ill-defined and being set to 0.0 in labels with no predicted samples. Use `zero_division` parameter to control this behavior.\n",
      "  _warn_prf(average, modifier, msg_start, len(result))\n",
      "C:\\Users\\haari\\anaconda3\\lib\\site-packages\\sklearn\\metrics\\_classification.py:1248: UndefinedMetricWarning: Precision and F-score are ill-defined and being set to 0.0 in labels with no predicted samples. Use `zero_division` parameter to control this behavior.\n",
      "  _warn_prf(average, modifier, msg_start, len(result))\n"
     ]
    }
   ],
   "source": [
    "print(classification_report(Y_test,y_pred_test))"
   ]
  },
  {
   "cell_type": "markdown",
   "id": "5d6b0200",
   "metadata": {},
   "source": [
    "### 3. ADA-BOOST CLASSIFIER"
   ]
  },
  {
   "cell_type": "code",
   "execution_count": 49,
   "id": "3684f427",
   "metadata": {},
   "outputs": [
    {
     "data": {
      "text/plain": [
       "(array([2, 2, 3, 3, 3, 2, 3, 2, 2, 3, 2, 2, 2, 2, 2, 2, 2, 2, 2, 2, 3, 2,\n",
       "        3, 2, 2, 2, 3, 3, 2, 2, 2, 3, 2, 4, 2, 2, 2, 2, 2, 2, 4, 2, 2, 2,\n",
       "        2, 3, 2, 3, 2, 3, 2, 3, 2, 3, 3, 3, 2, 2, 2, 2, 2, 2, 2]),\n",
       " array([3, 2, 2, 3, 2, 2, 2, 4, 2, 2, 3, 2, 2, 4, 2, 3]))"
      ]
     },
     "execution_count": 49,
     "metadata": {},
     "output_type": "execute_result"
    }
   ],
   "source": [
    "clf_abc=AdaBoostClassifier(n_estimators=10, random_state=7) \n",
    "clf_abc.fit(X_train,Y_train) # Training Model\n",
    "y_pred_train=clf_abc.predict(X_train)\n",
    "y_pred_test=clf_abc.predict(X_test)# Testing Model\n",
    "y_pred_train,y_pred_test"
   ]
  },
  {
   "cell_type": "markdown",
   "id": "d53ab38f",
   "metadata": {},
   "source": [
    "#### ACCURACY OF MODEL"
   ]
  },
  {
   "cell_type": "code",
   "execution_count": 50,
   "id": "480c56f5",
   "metadata": {},
   "outputs": [
    {
     "data": {
      "text/plain": [
       "0.5873015873015873"
      ]
     },
     "execution_count": 50,
     "metadata": {},
     "output_type": "execute_result"
    }
   ],
   "source": [
    "acc_dt_train3=accuracy_score(Y_train,y_pred_train)\n",
    "acc_dt_train3"
   ]
  },
  {
   "cell_type": "code",
   "execution_count": 51,
   "id": "58f61efd",
   "metadata": {},
   "outputs": [
    {
     "data": {
      "text/plain": [
       "0.4375"
      ]
     },
     "execution_count": 51,
     "metadata": {},
     "output_type": "execute_result"
    }
   ],
   "source": [
    "acc_dt_test3=accuracy_score(Y_test,y_pred_test)\n",
    "acc_dt_test3"
   ]
  },
  {
   "cell_type": "markdown",
   "id": "fee26a81",
   "metadata": {},
   "source": [
    "#### CLASSIFICATION REPORT"
   ]
  },
  {
   "cell_type": "code",
   "execution_count": 53,
   "id": "038580de",
   "metadata": {},
   "outputs": [
    {
     "name": "stdout",
     "output_type": "stream",
     "text": [
      "              precision    recall  f1-score   support\n",
      "\n",
      "           0       0.83      0.83      0.83         6\n",
      "           1       1.00      1.00      1.00         3\n",
      "           2       1.00      0.50      0.67         2\n",
      "           3       1.00      0.75      0.86         4\n",
      "           4       0.33      1.00      0.50         1\n",
      "\n",
      "    accuracy                           0.81        16\n",
      "   macro avg       0.83      0.82      0.77        16\n",
      "weighted avg       0.90      0.81      0.83        16\n",
      "\n"
     ]
    }
   ],
   "source": [
    "print(classification_report(Y_test,y_pred_test))"
   ]
  },
  {
   "cell_type": "markdown",
   "id": "43408841",
   "metadata": {},
   "source": [
    "### 4. GRADIENT BOOSTING CLASSIFIER"
   ]
  },
  {
   "cell_type": "code",
   "execution_count": 52,
   "id": "6ac2b5c3",
   "metadata": {},
   "outputs": [
    {
     "data": {
      "text/plain": [
       "(array([1, 0, 3, 3, 3, 2, 3, 0, 1, 3, 0, 2, 0, 1, 1, 0, 1, 2, 2, 0, 3, 0,\n",
       "        3, 2, 2, 1, 3, 3, 2, 1, 0, 3, 1, 4, 0, 2, 1, 2, 2, 1, 4, 0, 2, 0,\n",
       "        2, 3, 2, 3, 2, 3, 2, 3, 1, 3, 3, 3, 2, 2, 1, 1, 0, 2, 1]),\n",
       " array([3, 0, 1, 3, 1, 0, 0, 4, 0, 0, 4, 2, 1, 4, 0, 3]))"
      ]
     },
     "execution_count": 52,
     "metadata": {},
     "output_type": "execute_result"
    }
   ],
   "source": [
    "clf_gb=GradientBoostingClassifier(learning_rate= 0.2, random_state= 7) \n",
    "clf_gb.fit(X_train,Y_train) # Training Model\n",
    "y_pred_train=clf_gb.predict(X_train)\n",
    "y_pred_test=clf_gb.predict(X_test)# Testing Model\n",
    "y_pred_train,y_pred_test"
   ]
  },
  {
   "cell_type": "markdown",
   "id": "1b9eaf58",
   "metadata": {},
   "source": [
    "#### ACCURACY OF MODEL"
   ]
  },
  {
   "cell_type": "code",
   "execution_count": 54,
   "id": "29d1cfb4",
   "metadata": {},
   "outputs": [
    {
     "data": {
      "text/plain": [
       "1.0"
      ]
     },
     "execution_count": 54,
     "metadata": {},
     "output_type": "execute_result"
    }
   ],
   "source": [
    "acc_dt_train4=accuracy_score(Y_train,y_pred_train)\n",
    "acc_dt_train4"
   ]
  },
  {
   "cell_type": "code",
   "execution_count": 55,
   "id": "13d9351c",
   "metadata": {},
   "outputs": [
    {
     "data": {
      "text/plain": [
       "0.8125"
      ]
     },
     "execution_count": 55,
     "metadata": {},
     "output_type": "execute_result"
    }
   ],
   "source": [
    "acc_dt_test4=accuracy_score(Y_test,y_pred_test)\n",
    "acc_dt_test4"
   ]
  },
  {
   "cell_type": "markdown",
   "id": "106b6fa6",
   "metadata": {},
   "source": [
    "#### CLASSIFICATION REPORT"
   ]
  },
  {
   "cell_type": "code",
   "execution_count": 56,
   "id": "5be77d13",
   "metadata": {},
   "outputs": [
    {
     "name": "stdout",
     "output_type": "stream",
     "text": [
      "              precision    recall  f1-score   support\n",
      "\n",
      "           0       0.83      0.83      0.83         6\n",
      "           1       1.00      1.00      1.00         3\n",
      "           2       1.00      0.50      0.67         2\n",
      "           3       1.00      0.75      0.86         4\n",
      "           4       0.33      1.00      0.50         1\n",
      "\n",
      "    accuracy                           0.81        16\n",
      "   macro avg       0.83      0.82      0.77        16\n",
      "weighted avg       0.90      0.81      0.83        16\n",
      "\n"
     ]
    }
   ],
   "source": [
    "print(classification_report(Y_test,y_pred_test))"
   ]
  },
  {
   "cell_type": "markdown",
   "id": "282575f7",
   "metadata": {},
   "source": [
    "### 5. XGB CLASSIFIER"
   ]
  },
  {
   "cell_type": "code",
   "execution_count": 57,
   "id": "9272cf04",
   "metadata": {},
   "outputs": [
    {
     "name": "stdout",
     "output_type": "stream",
     "text": [
      "[18:32:54] WARNING: C:/Users/Administrator/workspace/xgboost-win64_release_1.6.0/src/learner.cc:627: \n",
      "Parameters: { \"n_estimator\" } might not be used.\n",
      "\n",
      "  This could be a false alarm, with some parameters getting used by language bindings but\n",
      "  then being mistakenly passed down to XGBoost core, or some parameter actually being used\n",
      "  but getting flagged wrongly here. Please open an issue if you find any such cases.\n",
      "\n",
      "\n"
     ]
    },
    {
     "data": {
      "text/plain": [
       "(array([1, 0, 3, 3, 3, 2, 3, 0, 1, 3, 0, 2, 0, 1, 1, 0, 1, 2, 2, 0, 3, 0,\n",
       "        3, 2, 2, 1, 3, 3, 2, 1, 0, 3, 1, 4, 0, 2, 1, 2, 2, 1, 4, 0, 2, 0,\n",
       "        2, 3, 2, 3, 2, 3, 2, 3, 1, 3, 3, 3, 2, 2, 1, 1, 0, 2, 1],\n",
       "       dtype=int64),\n",
       " array([3, 0, 1, 3, 1, 0, 0, 4, 0, 0, 3, 2, 1, 4, 2, 3], dtype=int64))"
      ]
     },
     "execution_count": 57,
     "metadata": {},
     "output_type": "execute_result"
    }
   ],
   "source": [
    "clf_xgb=XGBClassifier(learning_rate= 0.1, max_depth= 3, n_estimator=100, random_state=7)\n",
    "clf_xgb.fit(X_train,Y_train) # Training Model\n",
    "y_pred_train=clf_xgb.predict(X_train)\n",
    "y_pred_test=clf_xgb.predict(X_test)# Testing Model\n",
    "y_pred_train,y_pred_test"
   ]
  },
  {
   "cell_type": "markdown",
   "id": "a693a80c",
   "metadata": {},
   "source": [
    "#### ACCURACY OF MODEL"
   ]
  },
  {
   "cell_type": "code",
   "execution_count": 58,
   "id": "dff308d1",
   "metadata": {},
   "outputs": [
    {
     "data": {
      "text/plain": [
       "1.0"
      ]
     },
     "execution_count": 58,
     "metadata": {},
     "output_type": "execute_result"
    }
   ],
   "source": [
    "acc_dt_train5=accuracy_score(Y_train,y_pred_train)\n",
    "acc_dt_train5"
   ]
  },
  {
   "cell_type": "code",
   "execution_count": 59,
   "id": "4d0afa39",
   "metadata": {},
   "outputs": [
    {
     "data": {
      "text/plain": [
       "0.9375"
      ]
     },
     "execution_count": 59,
     "metadata": {},
     "output_type": "execute_result"
    }
   ],
   "source": [
    "acc_dt_test5=accuracy_score(Y_test,y_pred_test)\n",
    "acc_dt_test5"
   ]
  },
  {
   "cell_type": "markdown",
   "id": "aa0f43a5",
   "metadata": {},
   "source": [
    "#### CLASSIFICATION REPORT"
   ]
  },
  {
   "cell_type": "code",
   "execution_count": 60,
   "id": "58d70725",
   "metadata": {},
   "outputs": [
    {
     "name": "stdout",
     "output_type": "stream",
     "text": [
      "              precision    recall  f1-score   support\n",
      "\n",
      "           0       1.00      0.83      0.91         6\n",
      "           1       1.00      1.00      1.00         3\n",
      "           2       1.00      1.00      1.00         2\n",
      "           3       1.00      1.00      1.00         4\n",
      "           4       0.50      1.00      0.67         1\n",
      "\n",
      "    accuracy                           0.94        16\n",
      "   macro avg       0.90      0.97      0.92        16\n",
      "weighted avg       0.97      0.94      0.95        16\n",
      "\n"
     ]
    }
   ],
   "source": [
    "print(classification_report(Y_test,y_pred_test))"
   ]
  },
  {
   "cell_type": "markdown",
   "id": "7e83ae9d",
   "metadata": {},
   "source": [
    "### 6. SUPPORT VECTOR MACHINE CLASSIFIER"
   ]
  },
  {
   "cell_type": "code",
   "execution_count": 61,
   "id": "99a89493",
   "metadata": {},
   "outputs": [
    {
     "name": "stdout",
     "output_type": "stream",
     "text": [
      "Fitting 5 folds for each of 12 candidates, totalling 60 fits\n",
      "[CV] END .........................C=10, gamma=50, kernel=rbf; total time=   0.0s\n",
      "[CV] END .........................C=10, gamma=50, kernel=rbf; total time=   0.0s\n",
      "[CV] END .........................C=10, gamma=50, kernel=rbf; total time=   0.0s\n"
     ]
    },
    {
     "name": "stderr",
     "output_type": "stream",
     "text": [
      "C:\\Users\\haari\\anaconda3\\lib\\site-packages\\sklearn\\model_selection\\_split.py:666: UserWarning: The least populated class in y has only 2 members, which is less than n_splits=5.\n",
      "  warnings.warn((\"The least populated class in y has only %d\"\n"
     ]
    },
    {
     "name": "stdout",
     "output_type": "stream",
     "text": [
      "[CV] END .........................C=10, gamma=50, kernel=rbf; total time=   0.0s\n",
      "[CV] END .........................C=10, gamma=50, kernel=rbf; total time=   0.0s\n",
      "[CV] END ........................C=10, gamma=50, kernel=poly; total time=   0.0s\n",
      "[CV] END ........................C=10, gamma=50, kernel=poly; total time=   0.0s\n",
      "[CV] END ........................C=10, gamma=50, kernel=poly; total time=   0.0s\n",
      "[CV] END ........................C=10, gamma=50, kernel=poly; total time=   0.0s\n",
      "[CV] END ........................C=10, gamma=50, kernel=poly; total time=   0.0s\n",
      "[CV] END ........................C=10, gamma=100, kernel=rbf; total time=   0.0s\n",
      "[CV] END ........................C=10, gamma=100, kernel=rbf; total time=   0.0s\n",
      "[CV] END ........................C=10, gamma=100, kernel=rbf; total time=   0.0s\n",
      "[CV] END ........................C=10, gamma=100, kernel=rbf; total time=   0.0s\n",
      "[CV] END ........................C=10, gamma=100, kernel=rbf; total time=   0.0s\n",
      "[CV] END .......................C=10, gamma=100, kernel=poly; total time=   0.0s\n",
      "[CV] END .......................C=10, gamma=100, kernel=poly; total time=   0.0s\n",
      "[CV] END .......................C=10, gamma=100, kernel=poly; total time=   0.0s\n",
      "[CV] END .......................C=10, gamma=100, kernel=poly; total time=   0.0s\n",
      "[CV] END .......................C=10, gamma=100, kernel=poly; total time=   0.0s\n",
      "[CV] END .........................C=15, gamma=50, kernel=rbf; total time=   0.0s\n",
      "[CV] END .........................C=15, gamma=50, kernel=rbf; total time=   0.0s\n",
      "[CV] END .........................C=15, gamma=50, kernel=rbf; total time=   0.0s\n",
      "[CV] END .........................C=15, gamma=50, kernel=rbf; total time=   0.0s\n",
      "[CV] END .........................C=15, gamma=50, kernel=rbf; total time=   0.0s\n",
      "[CV] END ........................C=15, gamma=50, kernel=poly; total time=   0.0s\n",
      "[CV] END ........................C=15, gamma=50, kernel=poly; total time=   0.0s\n",
      "[CV] END ........................C=15, gamma=50, kernel=poly; total time=   0.0s\n",
      "[CV] END ........................C=15, gamma=50, kernel=poly; total time=   0.0s\n",
      "[CV] END ........................C=15, gamma=50, kernel=poly; total time=   0.0s\n",
      "[CV] END ........................C=15, gamma=100, kernel=rbf; total time=   0.0s\n",
      "[CV] END ........................C=15, gamma=100, kernel=rbf; total time=   0.0s\n",
      "[CV] END ........................C=15, gamma=100, kernel=rbf; total time=   0.0s\n",
      "[CV] END ........................C=15, gamma=100, kernel=rbf; total time=   0.0s\n",
      "[CV] END ........................C=15, gamma=100, kernel=rbf; total time=   0.0s\n",
      "[CV] END .......................C=15, gamma=100, kernel=poly; total time=   0.0s\n",
      "[CV] END .......................C=15, gamma=100, kernel=poly; total time=   0.0s\n",
      "[CV] END .......................C=15, gamma=100, kernel=poly; total time=   0.0s\n",
      "[CV] END .......................C=15, gamma=100, kernel=poly; total time=   0.0s\n",
      "[CV] END .......................C=15, gamma=100, kernel=poly; total time=   0.0s\n",
      "[CV] END .........................C=20, gamma=50, kernel=rbf; total time=   0.0s\n",
      "[CV] END .........................C=20, gamma=50, kernel=rbf; total time=   0.0s\n",
      "[CV] END .........................C=20, gamma=50, kernel=rbf; total time=   0.0s\n",
      "[CV] END .........................C=20, gamma=50, kernel=rbf; total time=   0.0s\n",
      "[CV] END .........................C=20, gamma=50, kernel=rbf; total time=   0.0s\n",
      "[CV] END ........................C=20, gamma=50, kernel=poly; total time=   0.0s\n",
      "[CV] END ........................C=20, gamma=50, kernel=poly; total time=   0.0s\n",
      "[CV] END ........................C=20, gamma=50, kernel=poly; total time=   0.0s\n",
      "[CV] END ........................C=20, gamma=50, kernel=poly; total time=   0.0s\n",
      "[CV] END ........................C=20, gamma=50, kernel=poly; total time=   0.0s\n",
      "[CV] END ........................C=20, gamma=100, kernel=rbf; total time=   0.0s\n",
      "[CV] END ........................C=20, gamma=100, kernel=rbf; total time=   0.0s\n",
      "[CV] END ........................C=20, gamma=100, kernel=rbf; total time=   0.0s\n",
      "[CV] END ........................C=20, gamma=100, kernel=rbf; total time=   0.0s\n",
      "[CV] END ........................C=20, gamma=100, kernel=rbf; total time=   0.0s\n",
      "[CV] END .......................C=20, gamma=100, kernel=poly; total time=   0.0s\n",
      "[CV] END .......................C=20, gamma=100, kernel=poly; total time=   0.0s\n",
      "[CV] END .......................C=20, gamma=100, kernel=poly; total time=   0.0s\n",
      "[CV] END .......................C=20, gamma=100, kernel=poly; total time=   0.0s\n",
      "[CV] END .......................C=20, gamma=100, kernel=poly; total time=   0.0s\n"
     ]
    },
    {
     "data": {
      "text/plain": [
       "GridSearchCV(estimator=SVC(),\n",
       "             param_grid={'C': [10, 15, 20], 'gamma': [50, 100],\n",
       "                         'kernel': ['rbf', 'poly']},\n",
       "             verbose=2)"
      ]
     },
     "execution_count": 61,
     "metadata": {},
     "output_type": "execute_result"
    }
   ],
   "source": [
    "# Finding Best parameter using GridSearch CV\n",
    "param_grid = {'C': [ 10, 15, 20], 'gamma': [50,100],'kernel':['rbf','poly']}\n",
    "grid = GridSearchCV(SVC(),param_grid,refit=True,verbose=2)\n",
    "grid.fit(X_train,Y_train)"
   ]
  },
  {
   "cell_type": "code",
   "execution_count": 62,
   "id": "7e428830",
   "metadata": {},
   "outputs": [
    {
     "data": {
      "text/plain": [
       "{'C': 10, 'gamma': 50, 'kernel': 'poly'}"
      ]
     },
     "execution_count": 62,
     "metadata": {},
     "output_type": "execute_result"
    }
   ],
   "source": [
    "grid.best_params_"
   ]
  },
  {
   "cell_type": "code",
   "execution_count": 63,
   "id": "082e287d",
   "metadata": {},
   "outputs": [
    {
     "data": {
      "text/plain": [
       "(array([1, 0, 3, 3, 3, 2, 3, 0, 1, 3, 0, 2, 0, 1, 1, 0, 1, 2, 2, 0, 3, 0,\n",
       "        3, 2, 2, 1, 3, 3, 2, 1, 0, 3, 1, 4, 0, 2, 1, 2, 2, 1, 4, 0, 2, 0,\n",
       "        2, 3, 2, 3, 2, 3, 2, 3, 1, 3, 3, 3, 2, 2, 1, 1, 0, 2, 1]),\n",
       " array([3, 1, 1, 3, 1, 0, 0, 2, 0, 0, 3, 2, 1, 1, 2, 3]))"
      ]
     },
     "execution_count": 63,
     "metadata": {},
     "output_type": "execute_result"
    }
   ],
   "source": [
    "clf_svc=OneVsRestClassifier(SVC(C= 10, gamma= 50, kernel= 'poly'))\n",
    "clf_svc.fit(X_train,Y_train) # Training Model\n",
    "y_pred_train=clf_svc.predict(X_train)\n",
    "y_pred_test=clf_svc.predict(X_test)# Testing Model\n",
    "y_pred_train,y_pred_test"
   ]
  },
  {
   "cell_type": "markdown",
   "id": "3ce63a95",
   "metadata": {},
   "source": [
    "#### ACCURACY OF MODEL"
   ]
  },
  {
   "cell_type": "code",
   "execution_count": 64,
   "id": "50440e2b",
   "metadata": {},
   "outputs": [
    {
     "data": {
      "text/plain": [
       "1.0"
      ]
     },
     "execution_count": 64,
     "metadata": {},
     "output_type": "execute_result"
    }
   ],
   "source": [
    "acc_dt_train6=accuracy_score(Y_train,y_pred_train)\n",
    "acc_dt_train6"
   ]
  },
  {
   "cell_type": "code",
   "execution_count": 65,
   "id": "4cdc5ada",
   "metadata": {},
   "outputs": [
    {
     "data": {
      "text/plain": [
       "0.8125"
      ]
     },
     "execution_count": 65,
     "metadata": {},
     "output_type": "execute_result"
    }
   ],
   "source": [
    "acc_dt_test6=accuracy_score(Y_test,y_pred_test)\n",
    "acc_dt_test6"
   ]
  },
  {
   "cell_type": "markdown",
   "id": "f7b13e2c",
   "metadata": {},
   "source": [
    "#### CLASSIFICATION REPORT"
   ]
  },
  {
   "cell_type": "code",
   "execution_count": 66,
   "id": "19ac5b42",
   "metadata": {},
   "outputs": [
    {
     "name": "stdout",
     "output_type": "stream",
     "text": [
      "              precision    recall  f1-score   support\n",
      "\n",
      "           0       1.00      0.67      0.80         6\n",
      "           1       0.60      1.00      0.75         3\n",
      "           2       0.67      1.00      0.80         2\n",
      "           3       1.00      1.00      1.00         4\n",
      "           4       0.00      0.00      0.00         1\n",
      "\n",
      "    accuracy                           0.81        16\n",
      "   macro avg       0.65      0.73      0.67        16\n",
      "weighted avg       0.82      0.81      0.79        16\n",
      "\n"
     ]
    },
    {
     "name": "stderr",
     "output_type": "stream",
     "text": [
      "C:\\Users\\haari\\anaconda3\\lib\\site-packages\\sklearn\\metrics\\_classification.py:1248: UndefinedMetricWarning: Precision and F-score are ill-defined and being set to 0.0 in labels with no predicted samples. Use `zero_division` parameter to control this behavior.\n",
      "  _warn_prf(average, modifier, msg_start, len(result))\n",
      "C:\\Users\\haari\\anaconda3\\lib\\site-packages\\sklearn\\metrics\\_classification.py:1248: UndefinedMetricWarning: Precision and F-score are ill-defined and being set to 0.0 in labels with no predicted samples. Use `zero_division` parameter to control this behavior.\n",
      "  _warn_prf(average, modifier, msg_start, len(result))\n",
      "C:\\Users\\haari\\anaconda3\\lib\\site-packages\\sklearn\\metrics\\_classification.py:1248: UndefinedMetricWarning: Precision and F-score are ill-defined and being set to 0.0 in labels with no predicted samples. Use `zero_division` parameter to control this behavior.\n",
      "  _warn_prf(average, modifier, msg_start, len(result))\n"
     ]
    }
   ],
   "source": [
    "print(classification_report(Y_test,y_pred_test))"
   ]
  },
  {
   "cell_type": "markdown",
   "id": "dc9e3eff",
   "metadata": {},
   "source": [
    "### 7. KNN CLASSIFIER"
   ]
  },
  {
   "cell_type": "code",
   "execution_count": 67,
   "id": "7d326af0",
   "metadata": {},
   "outputs": [
    {
     "name": "stdout",
     "output_type": "stream",
     "text": [
      "Fitting 5 folds for each of 4 candidates, totalling 20 fits\n",
      "[CV] END ......................................n_neighbors=5; total time=   0.0s\n",
      "[CV] END ......................................n_neighbors=5; total time=   0.0s\n",
      "[CV] END ......................................n_neighbors=5; total time=   0.0s\n"
     ]
    },
    {
     "name": "stderr",
     "output_type": "stream",
     "text": [
      "C:\\Users\\haari\\anaconda3\\lib\\site-packages\\sklearn\\model_selection\\_split.py:666: UserWarning: The least populated class in y has only 2 members, which is less than n_splits=5.\n",
      "  warnings.warn((\"The least populated class in y has only %d\"\n"
     ]
    },
    {
     "name": "stdout",
     "output_type": "stream",
     "text": [
      "[CV] END ......................................n_neighbors=5; total time=   0.0s\n",
      "[CV] END ......................................n_neighbors=5; total time=   0.0s\n",
      "[CV] END .....................................n_neighbors=10; total time=   0.0s\n",
      "[CV] END .....................................n_neighbors=10; total time=   0.0s\n",
      "[CV] END .....................................n_neighbors=10; total time=   0.0s\n",
      "[CV] END .....................................n_neighbors=10; total time=   0.0s\n",
      "[CV] END .....................................n_neighbors=10; total time=   0.0s\n",
      "[CV] END .....................................n_neighbors=15; total time=   0.0s\n",
      "[CV] END .....................................n_neighbors=15; total time=   0.0s\n",
      "[CV] END .....................................n_neighbors=15; total time=   0.0s\n",
      "[CV] END .....................................n_neighbors=15; total time=   0.0s\n",
      "[CV] END .....................................n_neighbors=15; total time=   0.0s\n",
      "[CV] END .....................................n_neighbors=20; total time=   0.0s\n",
      "[CV] END .....................................n_neighbors=20; total time=   0.0s\n",
      "[CV] END .....................................n_neighbors=20; total time=   0.0s\n",
      "[CV] END .....................................n_neighbors=20; total time=   0.0s\n",
      "[CV] END .....................................n_neighbors=20; total time=   0.0s\n"
     ]
    },
    {
     "data": {
      "text/plain": [
       "GridSearchCV(estimator=KNeighborsClassifier(),\n",
       "             param_grid={'n_neighbors': [5, 10, 15, 20]}, verbose=2)"
      ]
     },
     "execution_count": 67,
     "metadata": {},
     "output_type": "execute_result"
    }
   ],
   "source": [
    "# Finding Best parameter using GridSearch CV\n",
    "param_grid = {'n_neighbors':[5,10,15,20]}\n",
    "grid = GridSearchCV(KNeighborsClassifier(),param_grid,refit=True,verbose=2)\n",
    "grid.fit(X_train,Y_train)"
   ]
  },
  {
   "cell_type": "code",
   "execution_count": 68,
   "id": "0bc108de",
   "metadata": {},
   "outputs": [
    {
     "data": {
      "text/plain": [
       "{'n_neighbors': 5}"
      ]
     },
     "execution_count": 68,
     "metadata": {},
     "output_type": "execute_result"
    }
   ],
   "source": [
    "grid.best_params_"
   ]
  },
  {
   "cell_type": "code",
   "execution_count": 69,
   "id": "263807f8",
   "metadata": {},
   "outputs": [
    {
     "data": {
      "text/plain": [
       "(array([1, 1, 3, 3, 3, 2, 3, 0, 1, 3, 0, 2, 0, 1, 1, 0, 1, 2, 2, 0, 3, 0,\n",
       "        3, 2, 2, 1, 3, 3, 2, 1, 0, 3, 1, 2, 0, 2, 1, 2, 2, 1, 1, 0, 2, 0,\n",
       "        2, 3, 2, 3, 2, 3, 2, 3, 1, 3, 3, 3, 2, 2, 1, 1, 0, 2, 1]),\n",
       " array([3, 1, 1, 3, 1, 0, 0, 3, 0, 0, 3, 2, 1, 1, 2, 3]))"
      ]
     },
     "execution_count": 69,
     "metadata": {},
     "output_type": "execute_result"
    }
   ],
   "source": [
    "clf_knn=KNeighborsClassifier(n_neighbors=5)\n",
    "clf_knn.fit(X_train,Y_train) # Training Model\n",
    "y_pred_train=clf_knn.predict(X_train)\n",
    "y_pred_test=clf_knn.predict(X_test)# Testing Model\n",
    "y_pred_train,y_pred_test"
   ]
  },
  {
   "cell_type": "markdown",
   "id": "32bd9f81",
   "metadata": {},
   "source": [
    "#### ACCURACY OF MODEL"
   ]
  },
  {
   "cell_type": "code",
   "execution_count": 70,
   "id": "8351706b",
   "metadata": {},
   "outputs": [
    {
     "data": {
      "text/plain": [
       "0.9523809523809523"
      ]
     },
     "execution_count": 70,
     "metadata": {},
     "output_type": "execute_result"
    }
   ],
   "source": [
    "acc_dt_train7=accuracy_score(Y_train,y_pred_train)\n",
    "acc_dt_train7"
   ]
  },
  {
   "cell_type": "code",
   "execution_count": 72,
   "id": "6ce34a5d",
   "metadata": {},
   "outputs": [
    {
     "data": {
      "text/plain": [
       "0.8125"
      ]
     },
     "execution_count": 72,
     "metadata": {},
     "output_type": "execute_result"
    }
   ],
   "source": [
    "acc_dt_test7=accuracy_score(Y_test,y_pred_test)\n",
    "acc_dt_test7"
   ]
  },
  {
   "cell_type": "markdown",
   "id": "dbb73ae1",
   "metadata": {},
   "source": [
    "#### CLASSIFICATION REPORT"
   ]
  },
  {
   "cell_type": "code",
   "execution_count": 73,
   "id": "b5721979",
   "metadata": {},
   "outputs": [
    {
     "name": "stdout",
     "output_type": "stream",
     "text": [
      "              precision    recall  f1-score   support\n",
      "\n",
      "           0       1.00      0.67      0.80         6\n",
      "           1       0.60      1.00      0.75         3\n",
      "           2       1.00      1.00      1.00         2\n",
      "           3       0.80      1.00      0.89         4\n",
      "           4       0.00      0.00      0.00         1\n",
      "\n",
      "    accuracy                           0.81        16\n",
      "   macro avg       0.68      0.73      0.69        16\n",
      "weighted avg       0.81      0.81      0.79        16\n",
      "\n"
     ]
    },
    {
     "name": "stderr",
     "output_type": "stream",
     "text": [
      "C:\\Users\\haari\\anaconda3\\lib\\site-packages\\sklearn\\metrics\\_classification.py:1248: UndefinedMetricWarning: Precision and F-score are ill-defined and being set to 0.0 in labels with no predicted samples. Use `zero_division` parameter to control this behavior.\n",
      "  _warn_prf(average, modifier, msg_start, len(result))\n",
      "C:\\Users\\haari\\anaconda3\\lib\\site-packages\\sklearn\\metrics\\_classification.py:1248: UndefinedMetricWarning: Precision and F-score are ill-defined and being set to 0.0 in labels with no predicted samples. Use `zero_division` parameter to control this behavior.\n",
      "  _warn_prf(average, modifier, msg_start, len(result))\n",
      "C:\\Users\\haari\\anaconda3\\lib\\site-packages\\sklearn\\metrics\\_classification.py:1248: UndefinedMetricWarning: Precision and F-score are ill-defined and being set to 0.0 in labels with no predicted samples. Use `zero_division` parameter to control this behavior.\n",
      "  _warn_prf(average, modifier, msg_start, len(result))\n"
     ]
    }
   ],
   "source": [
    "print(classification_report(Y_test,y_pred_test))"
   ]
  },
  {
   "cell_type": "markdown",
   "id": "ab78e154",
   "metadata": {},
   "source": [
    "### 8. MNB CLASSIFIER"
   ]
  },
  {
   "cell_type": "code",
   "execution_count": 74,
   "id": "23a43903",
   "metadata": {},
   "outputs": [
    {
     "name": "stdout",
     "output_type": "stream",
     "text": [
      "Fitting 5 folds for each of 4 candidates, totalling 20 fits\n",
      "[CV] END ..........................alpha=0.5, fit_prior=True; total time=   0.0s\n",
      "[CV] END ..........................alpha=0.5, fit_prior=True; total time=   0.0s\n",
      "[CV] END ..........................alpha=0.5, fit_prior=True; total time=   0.0s\n",
      "[CV] END ..........................alpha=0.5, fit_prior=True; total time=   0.0s\n"
     ]
    },
    {
     "name": "stderr",
     "output_type": "stream",
     "text": [
      "C:\\Users\\haari\\anaconda3\\lib\\site-packages\\sklearn\\model_selection\\_split.py:666: UserWarning: The least populated class in y has only 2 members, which is less than n_splits=5.\n",
      "  warnings.warn((\"The least populated class in y has only %d\"\n"
     ]
    },
    {
     "name": "stdout",
     "output_type": "stream",
     "text": [
      "[CV] END ..........................alpha=0.5, fit_prior=True; total time=   0.0s\n",
      "[CV] END .........................alpha=0.5, fit_prior=False; total time=   0.0s\n",
      "[CV] END .........................alpha=0.5, fit_prior=False; total time=   0.0s\n",
      "[CV] END .........................alpha=0.5, fit_prior=False; total time=   0.0s\n",
      "[CV] END .........................alpha=0.5, fit_prior=False; total time=   0.0s\n",
      "[CV] END .........................alpha=0.5, fit_prior=False; total time=   0.0s\n",
      "[CV] END ..........................alpha=1.0, fit_prior=True; total time=   0.0s\n",
      "[CV] END ..........................alpha=1.0, fit_prior=True; total time=   0.0s\n",
      "[CV] END ..........................alpha=1.0, fit_prior=True; total time=   0.0s\n",
      "[CV] END ..........................alpha=1.0, fit_prior=True; total time=   0.0s\n",
      "[CV] END ..........................alpha=1.0, fit_prior=True; total time=   0.0s\n",
      "[CV] END .........................alpha=1.0, fit_prior=False; total time=   0.0s\n",
      "[CV] END .........................alpha=1.0, fit_prior=False; total time=   0.0s\n",
      "[CV] END .........................alpha=1.0, fit_prior=False; total time=   0.0s\n",
      "[CV] END .........................alpha=1.0, fit_prior=False; total time=   0.0s\n",
      "[CV] END .........................alpha=1.0, fit_prior=False; total time=   0.0s\n"
     ]
    },
    {
     "data": {
      "text/plain": [
       "GridSearchCV(estimator=MultinomialNB(),\n",
       "             param_grid={'alpha': [0.5, 1.0], 'fit_prior': ['True', 'False']},\n",
       "             verbose=2)"
      ]
     },
     "execution_count": 74,
     "metadata": {},
     "output_type": "execute_result"
    }
   ],
   "source": [
    "# Finding Best parameter using GridSearch CV\n",
    "param_grid = {'alpha':[0.5,1.0],'fit_prior':['True','False']}\n",
    "grid = GridSearchCV(MultinomialNB(),param_grid,refit=True,verbose=2)\n",
    "grid.fit(X_train,Y_train)"
   ]
  },
  {
   "cell_type": "code",
   "execution_count": 75,
   "id": "0a04af90",
   "metadata": {},
   "outputs": [
    {
     "data": {
      "text/plain": [
       "{'alpha': 1.0, 'fit_prior': 'True'}"
      ]
     },
     "execution_count": 75,
     "metadata": {},
     "output_type": "execute_result"
    }
   ],
   "source": [
    "grid.best_params_"
   ]
  },
  {
   "cell_type": "code",
   "execution_count": 76,
   "id": "7b28343b",
   "metadata": {},
   "outputs": [
    {
     "data": {
      "text/plain": [
       "(array([1, 1, 3, 3, 3, 2, 3, 0, 1, 3, 0, 2, 0, 1, 1, 0, 1, 2, 2, 0, 3, 0,\n",
       "        3, 2, 2, 1, 3, 3, 2, 1, 0, 3, 1, 2, 0, 2, 1, 2, 2, 1, 1, 0, 2, 0,\n",
       "        2, 3, 2, 3, 2, 3, 2, 3, 1, 3, 3, 3, 2, 2, 1, 1, 0, 2, 1]),\n",
       " array([3, 3, 1, 3, 1, 0, 0, 3, 0, 0, 3, 2, 1, 1, 2, 3]))"
      ]
     },
     "execution_count": 76,
     "metadata": {},
     "output_type": "execute_result"
    }
   ],
   "source": [
    "clf_mnb=MultinomialNB(alpha=1.0, fit_prior=True)\n",
    "clf_mnb.fit(X_train,Y_train) # Training Model\n",
    "y_pred_train=clf_mnb.predict(X_train)\n",
    "y_pred_test=clf_mnb.predict(X_test)# Testing Model\n",
    "y_pred_train,y_pred_test"
   ]
  },
  {
   "cell_type": "markdown",
   "id": "e85df7a3",
   "metadata": {},
   "source": [
    "#### ACCURACY OF MODEL"
   ]
  },
  {
   "cell_type": "code",
   "execution_count": 77,
   "id": "e5688f03",
   "metadata": {},
   "outputs": [
    {
     "data": {
      "text/plain": [
       "0.9523809523809523"
      ]
     },
     "execution_count": 77,
     "metadata": {},
     "output_type": "execute_result"
    }
   ],
   "source": [
    "acc_dt_train8=accuracy_score(Y_train,y_pred_train)\n",
    "acc_dt_train8"
   ]
  },
  {
   "cell_type": "code",
   "execution_count": 78,
   "id": "d1e3f97c",
   "metadata": {},
   "outputs": [
    {
     "data": {
      "text/plain": [
       "0.8125"
      ]
     },
     "execution_count": 78,
     "metadata": {},
     "output_type": "execute_result"
    }
   ],
   "source": [
    "acc_dt_test8=accuracy_score(Y_test,y_pred_test)\n",
    "acc_dt_test8"
   ]
  },
  {
   "cell_type": "markdown",
   "id": "28a8521a",
   "metadata": {},
   "source": [
    "#### CLASSIFICATION REPORT"
   ]
  },
  {
   "cell_type": "code",
   "execution_count": 79,
   "id": "6638c234",
   "metadata": {},
   "outputs": [
    {
     "name": "stdout",
     "output_type": "stream",
     "text": [
      "              precision    recall  f1-score   support\n",
      "\n",
      "           0       1.00      0.67      0.80         6\n",
      "           1       0.75      1.00      0.86         3\n",
      "           2       1.00      1.00      1.00         2\n",
      "           3       0.67      1.00      0.80         4\n",
      "           4       0.00      0.00      0.00         1\n",
      "\n",
      "    accuracy                           0.81        16\n",
      "   macro avg       0.68      0.73      0.69        16\n",
      "weighted avg       0.81      0.81      0.79        16\n",
      "\n"
     ]
    },
    {
     "name": "stderr",
     "output_type": "stream",
     "text": [
      "C:\\Users\\haari\\anaconda3\\lib\\site-packages\\sklearn\\metrics\\_classification.py:1248: UndefinedMetricWarning: Precision and F-score are ill-defined and being set to 0.0 in labels with no predicted samples. Use `zero_division` parameter to control this behavior.\n",
      "  _warn_prf(average, modifier, msg_start, len(result))\n",
      "C:\\Users\\haari\\anaconda3\\lib\\site-packages\\sklearn\\metrics\\_classification.py:1248: UndefinedMetricWarning: Precision and F-score are ill-defined and being set to 0.0 in labels with no predicted samples. Use `zero_division` parameter to control this behavior.\n",
      "  _warn_prf(average, modifier, msg_start, len(result))\n",
      "C:\\Users\\haari\\anaconda3\\lib\\site-packages\\sklearn\\metrics\\_classification.py:1248: UndefinedMetricWarning: Precision and F-score are ill-defined and being set to 0.0 in labels with no predicted samples. Use `zero_division` parameter to control this behavior.\n",
      "  _warn_prf(average, modifier, msg_start, len(result))\n"
     ]
    }
   ],
   "source": [
    "print(classification_report(Y_test,y_pred_test))"
   ]
  },
  {
   "cell_type": "markdown",
   "id": "10a6f01c",
   "metadata": {},
   "source": [
    "## TABULATING ALL MODELS ACCURACY SCORE"
   ]
  },
  {
   "cell_type": "code",
   "execution_count": 83,
   "id": "b54139d4",
   "metadata": {},
   "outputs": [],
   "source": [
    "data={'MODELS':pd.Series(['Decision Tree Classifier','Random Forest Classifier','Ada-Boost Classifier','Gradient Boosting Classifier','XGB Classifier','SVM Classifier','KNN Classifier','MNB CLassifier']),\n",
    "      'TRAINING ACCURACY':pd.Series([acc_dt_train1,acc_dt_train2,acc_dt_train3,acc_dt_train4,acc_dt_train5,acc_dt_train6,acc_dt_train7,acc_dt_train8]),\n",
    "      'TESING ACCURACY':pd.Series([acc_dt_test1,acc_dt_test2,acc_dt_test3,acc_dt_test4,acc_dt_test5,acc_dt_test6,acc_dt_test7,acc_dt_test8])}"
   ]
  },
  {
   "cell_type": "code",
   "execution_count": 84,
   "id": "5690ba5b",
   "metadata": {},
   "outputs": [
    {
     "data": {
      "text/html": [
       "<div>\n",
       "<style scoped>\n",
       "    .dataframe tbody tr th:only-of-type {\n",
       "        vertical-align: middle;\n",
       "    }\n",
       "\n",
       "    .dataframe tbody tr th {\n",
       "        vertical-align: top;\n",
       "    }\n",
       "\n",
       "    .dataframe thead th {\n",
       "        text-align: right;\n",
       "    }\n",
       "</style>\n",
       "<table border=\"1\" class=\"dataframe\">\n",
       "  <thead>\n",
       "    <tr style=\"text-align: right;\">\n",
       "      <th></th>\n",
       "      <th>MODELS</th>\n",
       "      <th>TRAINING ACCURACY</th>\n",
       "      <th>TESING ACCURACY</th>\n",
       "    </tr>\n",
       "  </thead>\n",
       "  <tbody>\n",
       "    <tr>\n",
       "      <th>0</th>\n",
       "      <td>Decision Tree Classifier</td>\n",
       "      <td>1.000000</td>\n",
       "      <td>0.9375</td>\n",
       "    </tr>\n",
       "    <tr>\n",
       "      <th>1</th>\n",
       "      <td>Random Forest Classifier</td>\n",
       "      <td>1.000000</td>\n",
       "      <td>0.8125</td>\n",
       "    </tr>\n",
       "    <tr>\n",
       "      <th>2</th>\n",
       "      <td>Ada-Boost Classifier</td>\n",
       "      <td>0.587302</td>\n",
       "      <td>0.4375</td>\n",
       "    </tr>\n",
       "    <tr>\n",
       "      <th>3</th>\n",
       "      <td>Gradient Boosting Classifier</td>\n",
       "      <td>1.000000</td>\n",
       "      <td>0.8125</td>\n",
       "    </tr>\n",
       "    <tr>\n",
       "      <th>4</th>\n",
       "      <td>XGB Classifier</td>\n",
       "      <td>1.000000</td>\n",
       "      <td>0.9375</td>\n",
       "    </tr>\n",
       "    <tr>\n",
       "      <th>5</th>\n",
       "      <td>SVM Classifier</td>\n",
       "      <td>1.000000</td>\n",
       "      <td>0.8125</td>\n",
       "    </tr>\n",
       "    <tr>\n",
       "      <th>6</th>\n",
       "      <td>KNN Classifier</td>\n",
       "      <td>0.952381</td>\n",
       "      <td>0.8125</td>\n",
       "    </tr>\n",
       "    <tr>\n",
       "      <th>7</th>\n",
       "      <td>MNB CLassifier</td>\n",
       "      <td>0.952381</td>\n",
       "      <td>0.8125</td>\n",
       "    </tr>\n",
       "  </tbody>\n",
       "</table>\n",
       "</div>"
      ],
      "text/plain": [
       "                         MODELS  TRAINING ACCURACY  TESING ACCURACY\n",
       "0      Decision Tree Classifier           1.000000           0.9375\n",
       "1      Random Forest Classifier           1.000000           0.8125\n",
       "2          Ada-Boost Classifier           0.587302           0.4375\n",
       "3  Gradient Boosting Classifier           1.000000           0.8125\n",
       "4                XGB Classifier           1.000000           0.9375\n",
       "5                SVM Classifier           1.000000           0.8125\n",
       "6                KNN Classifier           0.952381           0.8125\n",
       "7                MNB CLassifier           0.952381           0.8125"
      ]
     },
     "execution_count": 84,
     "metadata": {},
     "output_type": "execute_result"
    }
   ],
   "source": [
    "pd.DataFrame(data)"
   ]
  },
  {
   "cell_type": "code",
   "execution_count": null,
   "id": "326d6041",
   "metadata": {},
   "outputs": [],
   "source": []
  },
  {
   "cell_type": "code",
   "execution_count": null,
   "id": "ac8e6724",
   "metadata": {},
   "outputs": [],
   "source": []
  },
  {
   "cell_type": "code",
   "execution_count": null,
   "id": "8a79276d",
   "metadata": {},
   "outputs": [],
   "source": []
  }
 ],
 "metadata": {
  "kernelspec": {
   "display_name": "Python 3 (ipykernel)",
   "language": "python",
   "name": "python3"
  },
  "language_info": {
   "codemirror_mode": {
    "name": "ipython",
    "version": 3
   },
   "file_extension": ".py",
   "mimetype": "text/x-python",
   "name": "python",
   "nbconvert_exporter": "python",
   "pygments_lexer": "ipython3",
   "version": "3.9.7"
  }
 },
 "nbformat": 4,
 "nbformat_minor": 5
}
